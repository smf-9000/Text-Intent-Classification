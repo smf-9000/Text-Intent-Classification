{
  "nbformat": 4,
  "nbformat_minor": 0,
  "metadata": {
    "accelerator": "GPU",
    "colab": {
      "name": "Text-Classification-LSTM-glove.ipynb",
      "provenance": [],
      "collapsed_sections": [],
      "include_colab_link": true
    },
    "kernelspec": {
      "display_name": "Python 3",
      "name": "python3"
    }
  },
  "cells": [
    {
      "cell_type": "markdown",
      "metadata": {
        "id": "view-in-github",
        "colab_type": "text"
      },
      "source": [
        "<a href=\"https://colab.research.google.com/github/smf-9000/Text-Intent-Classification/blob/main/Text_Classification_LSTM_glove.ipynb\" target=\"_parent\"><img src=\"https://colab.research.google.com/assets/colab-badge.svg\" alt=\"Open In Colab\"/></a>"
      ]
    },
    {
      "cell_type": "code",
      "metadata": {
        "colab": {
          "base_uri": "https://localhost:8080/"
        },
        "id": "Sw551NAEVxlx",
        "outputId": "774ba54d-8cfb-43d9-8ee6-f92719fc5af5"
      },
      "source": [
        "!wget https://archive.ics.uci.edu/ml/machine-learning-databases/00570/clinc150_uci.zip"
      ],
      "execution_count": null,
      "outputs": [
        {
          "output_type": "stream",
          "text": [
            "--2021-07-10 17:01:53--  https://archive.ics.uci.edu/ml/machine-learning-databases/00570/clinc150_uci.zip\n",
            "Resolving archive.ics.uci.edu (archive.ics.uci.edu)... 128.195.10.252\n",
            "Connecting to archive.ics.uci.edu (archive.ics.uci.edu)|128.195.10.252|:443... connected.\n",
            "HTTP request sent, awaiting response... 200 OK\n",
            "Length: 1053960 (1.0M) [application/x-httpd-php]\n",
            "Saving to: ‘clinc150_uci.zip’\n",
            "\n",
            "\rclinc150_uci.zip      0%[                    ]       0  --.-KB/s               \rclinc150_uci.zip    100%[===================>]   1.00M  --.-KB/s    in 0.06s   \n",
            "\n",
            "2021-07-10 17:01:53 (17.7 MB/s) - ‘clinc150_uci.zip’ saved [1053960/1053960]\n",
            "\n"
          ],
          "name": "stdout"
        }
      ]
    },
    {
      "cell_type": "code",
      "metadata": {
        "colab": {
          "base_uri": "https://localhost:8080/"
        },
        "id": "dbHjfbOiV-2m",
        "outputId": "36cc40fc-f507-4a05-bf4a-ff6a55dbf007"
      },
      "source": [
        "!unzip /content/clinc150_uci.zip -d /content"
      ],
      "execution_count": null,
      "outputs": [
        {
          "output_type": "stream",
          "text": [
            "Archive:  /content/clinc150_uci.zip\n",
            "   creating: /content/clinc150_uci/\n",
            "  inflating: /content/clinc150_uci/data_small.json  \n",
            "   creating: /content/__MACOSX/\n",
            "   creating: /content/__MACOSX/clinc150_uci/\n",
            "  inflating: /content/__MACOSX/clinc150_uci/._data_small.json  \n",
            "  inflating: /content/clinc150_uci/meta.txt  \n",
            "  inflating: /content/__MACOSX/clinc150_uci/._meta.txt  \n",
            "  inflating: /content/clinc150_uci/LICENSE  \n",
            "  inflating: /content/clinc150_uci/data_oos_plus.json  \n",
            "  inflating: /content/__MACOSX/clinc150_uci/._data_oos_plus.json  \n",
            "  inflating: /content/clinc150_uci/data_imbalanced.json  \n",
            "  inflating: /content/__MACOSX/clinc150_uci/._data_imbalanced.json  \n",
            "  inflating: /content/clinc150_uci/data_full.json  \n",
            "  inflating: /content/__MACOSX/clinc150_uci/._data_full.json  \n"
          ],
          "name": "stdout"
        }
      ]
    },
    {
      "cell_type": "code",
      "metadata": {
        "id": "4h6ZwBo_WqpZ"
      },
      "source": [
        "import pandas as pd\n",
        "import json"
      ],
      "execution_count": null,
      "outputs": []
    },
    {
      "cell_type": "code",
      "metadata": {
        "id": "GJUon-tBWnl0"
      },
      "source": [
        "with open('/content/clinc150_uci/data_full.json', 'r') as file:\n",
        "  data_JSON = file.read()\n",
        "  data = json.loads(data_JSON)\n",
        "  \n",
        "sentences = []\n",
        "labels = []\n",
        "CL = {}\n",
        "for tajp in ['train', 'test', 'val']:\n",
        "  for s, c in data[tajp]:\n",
        "    if c not in CL:\n",
        "      CL[c] = len(CL.keys())\n",
        "    sentences.append(s)\n",
        "    labels.append(CL[c])"
      ],
      "execution_count": null,
      "outputs": []
    },
    {
      "cell_type": "code",
      "metadata": {
        "id": "EFez1hFrdj3V"
      },
      "source": [
        "list(zip(sentences, labels))"
      ],
      "execution_count": null,
      "outputs": []
    },
    {
      "cell_type": "code",
      "metadata": {
        "id": "L62G7LTwNzoD"
      },
      "source": [
        "import tensorflow as tf\n",
        "from tensorflow.keras.preprocessing.sequence import pad_sequences\n",
        "import tensorflow_datasets as tfds\n",
        "from tensorflow.keras import layers\n",
        "from tensorflow.keras.preprocessing import text, sequence"
      ],
      "execution_count": null,
      "outputs": []
    },
    {
      "cell_type": "code",
      "metadata": {
        "id": "jndqfGOMTRT4"
      },
      "source": [
        "vocab_size = 10000"
      ],
      "execution_count": null,
      "outputs": []
    },
    {
      "cell_type": "code",
      "metadata": {
        "id": "50-hTsogLSL-"
      },
      "source": [
        "import numpy as np\n",
        "from sklearn.model_selection import train_test_split\n",
        "\n",
        "vocab_size = 10000\n",
        "max_length = 100\n",
        "\n",
        "X_train, X_test, Y_train, Y_test = train_test_split(sentences, labels, test_size=0.2, random_state=1)\n",
        "\n",
        "tokenizer = text.Tokenizer(vocab_size)\n",
        "tokenizer.fit_on_texts(np.concatenate([X_train, X_test]))\n",
        "\n",
        "train_tokenized = tokenizer.texts_to_sequences(X_train) \n",
        "train_inputs = sequence.pad_sequences(train_tokenized, maxlen=max_length)\n",
        "\n",
        "test_tokenized = tokenizer.texts_to_sequences(X_test) \n",
        "test_inputs = sequence.pad_sequences(test_tokenized, maxlen=max_length)\n",
        "\n",
        "training_labels_final = np.array(Y_train)\n",
        "testing_labels_final = np.array(Y_test)"
      ],
      "execution_count": null,
      "outputs": []
    },
    {
      "cell_type": "code",
      "metadata": {
        "colab": {
          "base_uri": "https://localhost:8080/"
        },
        "id": "2Nupla2eRwCw",
        "outputId": "6f28d749-8c6c-44d4-f26c-3f770a9ae7c4"
      },
      "source": [
        "!wget http://nlp.stanford.edu/data/glove.6B.zip\n",
        "!unzip glove.6B.zip"
      ],
      "execution_count": null,
      "outputs": [
        {
          "output_type": "stream",
          "text": [
            "--2021-07-10 17:01:57--  http://nlp.stanford.edu/data/glove.6B.zip\n",
            "Resolving nlp.stanford.edu (nlp.stanford.edu)... 171.64.67.140\n",
            "Connecting to nlp.stanford.edu (nlp.stanford.edu)|171.64.67.140|:80... connected.\n",
            "HTTP request sent, awaiting response... 302 Found\n",
            "Location: https://nlp.stanford.edu/data/glove.6B.zip [following]\n",
            "--2021-07-10 17:01:57--  https://nlp.stanford.edu/data/glove.6B.zip\n",
            "Connecting to nlp.stanford.edu (nlp.stanford.edu)|171.64.67.140|:443... connected.\n",
            "HTTP request sent, awaiting response... 301 Moved Permanently\n",
            "Location: http://downloads.cs.stanford.edu/nlp/data/glove.6B.zip [following]\n",
            "--2021-07-10 17:01:57--  http://downloads.cs.stanford.edu/nlp/data/glove.6B.zip\n",
            "Resolving downloads.cs.stanford.edu (downloads.cs.stanford.edu)... 171.64.64.22\n",
            "Connecting to downloads.cs.stanford.edu (downloads.cs.stanford.edu)|171.64.64.22|:80... connected.\n",
            "HTTP request sent, awaiting response... 200 OK\n",
            "Length: 862182613 (822M) [application/zip]\n",
            "Saving to: ‘glove.6B.zip’\n",
            "\n",
            "glove.6B.zip        100%[===================>] 822.24M  5.13MB/s    in 2m 39s  \n",
            "\n",
            "2021-07-10 17:04:36 (5.16 MB/s) - ‘glove.6B.zip’ saved [862182613/862182613]\n",
            "\n",
            "Archive:  glove.6B.zip\n",
            "  inflating: glove.6B.50d.txt        \n",
            "  inflating: glove.6B.100d.txt       \n",
            "  inflating: glove.6B.200d.txt       \n",
            "  inflating: glove.6B.300d.txt       \n"
          ],
          "name": "stdout"
        }
      ]
    },
    {
      "cell_type": "code",
      "metadata": {
        "id": "cZ4tMXGmR2qq"
      },
      "source": [
        "glove_dim = 200\n",
        "glove_file = '/content/glove.6B.' + str(glove_dim) + 'd.txt'\n",
        "emb_dict = {}\n",
        "glove = open(glove_file)\n",
        "for line in glove:\n",
        "  values = line.split()\n",
        "  word = values[0]\n",
        "  vector = np.asarray(values[1:], dtype='float32')\n",
        "  emb_dict[word] = vector\n",
        "glove.close()"
      ],
      "execution_count": null,
      "outputs": []
    },
    {
      "cell_type": "code",
      "metadata": {
        "id": "xXhavrLFR5Fu"
      },
      "source": [
        "emb_matrix = np.zeros((vocab_size, glove_dim))\n",
        "for w, i in tokenizer.word_index.items():\n",
        "  if i < vocab_size:\n",
        "    vect = emb_dict.get(w)\n",
        "    if vect is not None:\n",
        "      emb_matrix[i] = vect\n",
        "  else:\n",
        "    break"
      ],
      "execution_count": null,
      "outputs": []
    },
    {
      "cell_type": "markdown",
      "metadata": {
        "id": "ZagSY0xHBgsk"
      },
      "source": [
        "\n",
        "\n",
        "```\n",
        "# ----------------------------------------------------------------------\n",
        "```\n",
        "\n"
      ]
    },
    {
      "cell_type": "code",
      "metadata": {
        "id": "c_nyQeI0RCCv",
        "colab": {
          "base_uri": "https://localhost:8080/"
        },
        "outputId": "03dbad19-a907-4f32-b04b-3e73cc3d6bcd"
      },
      "source": [
        "num_epochs = 100\n",
        "\n",
        "class DCLIN(tf.keras.Model):\n",
        "    \n",
        "    def __init__(self):\n",
        "        super(DCLIN, self).__init__(name='model_i')\n",
        "        \n",
        "        # self.embedding = layers.Embedding(vocab_size, embedding_dim, input_length=max_length)\n",
        "        self.embedding = layers.Embedding(\n",
        "                            vocab_size,\n",
        "                            glove_dim,\n",
        "                            embeddings_initializer=tf.keras.initializers.Constant(emb_matrix),\n",
        "                            trainable=False)\n",
        "        self.pool_1 = layers.GlobalAveragePooling1D()\n",
        "        self.dense_1 = layers.Dense(\n",
        "                            units=256,\n",
        "                            activation=\"relu\")\n",
        "        self.dense_last = layers.Dense(\n",
        "                            units=150,\n",
        "                            activation=\"sigmoid\")\n",
        "\n",
        "    \n",
        "    def call(self, inputs, training):\n",
        "        x = self.embedding(inputs)\n",
        "        x = self.pool_1(x)\n",
        "        x = self.dense_1(x)\n",
        "        output = self.dense_last(x)\n",
        "        return output\n",
        "\n",
        "model = DCLIN()\n",
        "model.compile(loss='sparse_categorical_crossentropy',optimizer='adam',metrics=['sparse_categorical_accuracy'])\n",
        "history = model.fit(train_inputs, training_labels_final, epochs=num_epochs, validation_data=(test_inputs, testing_labels_final))"
      ],
      "execution_count": null,
      "outputs": [
        {
          "output_type": "stream",
          "text": [
            "Epoch 1/100\n",
            "563/563 [==============================] - 5s 3ms/step - loss: 4.4939 - sparse_categorical_accuracy: 0.1378 - val_loss: 3.6723 - val_sparse_categorical_accuracy: 0.3064\n",
            "Epoch 2/100\n",
            "563/563 [==============================] - 2s 3ms/step - loss: 2.9348 - sparse_categorical_accuracy: 0.4441 - val_loss: 2.3541 - val_sparse_categorical_accuracy: 0.5538\n",
            "Epoch 3/100\n",
            "563/563 [==============================] - 2s 3ms/step - loss: 1.9583 - sparse_categorical_accuracy: 0.6247 - val_loss: 1.6952 - val_sparse_categorical_accuracy: 0.6516\n",
            "Epoch 4/100\n",
            "563/563 [==============================] - 2s 3ms/step - loss: 1.4421 - sparse_categorical_accuracy: 0.7134 - val_loss: 1.3172 - val_sparse_categorical_accuracy: 0.7289\n",
            "Epoch 5/100\n",
            "563/563 [==============================] - 2s 3ms/step - loss: 1.1379 - sparse_categorical_accuracy: 0.7703 - val_loss: 1.0777 - val_sparse_categorical_accuracy: 0.7696\n",
            "Epoch 6/100\n",
            "563/563 [==============================] - 2s 3ms/step - loss: 0.9423 - sparse_categorical_accuracy: 0.8011 - val_loss: 0.9313 - val_sparse_categorical_accuracy: 0.7869\n",
            "Epoch 7/100\n",
            "563/563 [==============================] - 2s 3ms/step - loss: 0.8055 - sparse_categorical_accuracy: 0.8269 - val_loss: 0.8268 - val_sparse_categorical_accuracy: 0.8022\n",
            "Epoch 8/100\n",
            "563/563 [==============================] - 2s 3ms/step - loss: 0.7045 - sparse_categorical_accuracy: 0.8451 - val_loss: 0.7372 - val_sparse_categorical_accuracy: 0.8209\n",
            "Epoch 9/100\n",
            "563/563 [==============================] - 2s 3ms/step - loss: 0.6295 - sparse_categorical_accuracy: 0.8566 - val_loss: 0.6814 - val_sparse_categorical_accuracy: 0.8291\n",
            "Epoch 10/100\n",
            "563/563 [==============================] - 2s 3ms/step - loss: 0.5717 - sparse_categorical_accuracy: 0.8679 - val_loss: 0.6217 - val_sparse_categorical_accuracy: 0.8440\n",
            "Epoch 11/100\n",
            "563/563 [==============================] - 2s 3ms/step - loss: 0.5223 - sparse_categorical_accuracy: 0.8773 - val_loss: 0.5841 - val_sparse_categorical_accuracy: 0.8484\n",
            "Epoch 12/100\n",
            "563/563 [==============================] - 2s 3ms/step - loss: 0.4828 - sparse_categorical_accuracy: 0.8831 - val_loss: 0.5457 - val_sparse_categorical_accuracy: 0.8569\n",
            "Epoch 13/100\n",
            "563/563 [==============================] - 2s 3ms/step - loss: 0.4488 - sparse_categorical_accuracy: 0.8946 - val_loss: 0.5137 - val_sparse_categorical_accuracy: 0.8620\n",
            "Epoch 14/100\n",
            "563/563 [==============================] - 2s 3ms/step - loss: 0.4199 - sparse_categorical_accuracy: 0.8978 - val_loss: 0.4908 - val_sparse_categorical_accuracy: 0.8693\n",
            "Epoch 15/100\n",
            "563/563 [==============================] - 2s 3ms/step - loss: 0.3944 - sparse_categorical_accuracy: 0.9039 - val_loss: 0.4749 - val_sparse_categorical_accuracy: 0.8722\n",
            "Epoch 16/100\n",
            "563/563 [==============================] - 2s 3ms/step - loss: 0.3738 - sparse_categorical_accuracy: 0.9076 - val_loss: 0.4546 - val_sparse_categorical_accuracy: 0.8798\n",
            "Epoch 17/100\n",
            "563/563 [==============================] - 2s 3ms/step - loss: 0.3523 - sparse_categorical_accuracy: 0.9141 - val_loss: 0.4415 - val_sparse_categorical_accuracy: 0.8744\n",
            "Epoch 18/100\n",
            "563/563 [==============================] - 2s 3ms/step - loss: 0.3358 - sparse_categorical_accuracy: 0.9160 - val_loss: 0.4309 - val_sparse_categorical_accuracy: 0.8802\n",
            "Epoch 19/100\n",
            "563/563 [==============================] - 2s 3ms/step - loss: 0.3186 - sparse_categorical_accuracy: 0.9208 - val_loss: 0.4132 - val_sparse_categorical_accuracy: 0.8800\n",
            "Epoch 20/100\n",
            "563/563 [==============================] - 2s 3ms/step - loss: 0.3071 - sparse_categorical_accuracy: 0.9232 - val_loss: 0.4019 - val_sparse_categorical_accuracy: 0.8902\n",
            "Epoch 21/100\n",
            "563/563 [==============================] - 2s 3ms/step - loss: 0.2920 - sparse_categorical_accuracy: 0.9280 - val_loss: 0.3981 - val_sparse_categorical_accuracy: 0.8847\n",
            "Epoch 22/100\n",
            "563/563 [==============================] - 2s 3ms/step - loss: 0.2811 - sparse_categorical_accuracy: 0.9294 - val_loss: 0.3847 - val_sparse_categorical_accuracy: 0.8924\n",
            "Epoch 23/100\n",
            "563/563 [==============================] - 2s 3ms/step - loss: 0.2689 - sparse_categorical_accuracy: 0.9323 - val_loss: 0.3798 - val_sparse_categorical_accuracy: 0.8893\n",
            "Epoch 24/100\n",
            "563/563 [==============================] - 2s 3ms/step - loss: 0.2589 - sparse_categorical_accuracy: 0.9356 - val_loss: 0.3694 - val_sparse_categorical_accuracy: 0.8931\n",
            "Epoch 25/100\n",
            "563/563 [==============================] - 2s 3ms/step - loss: 0.2479 - sparse_categorical_accuracy: 0.9379 - val_loss: 0.3657 - val_sparse_categorical_accuracy: 0.8964\n",
            "Epoch 26/100\n",
            "563/563 [==============================] - 2s 3ms/step - loss: 0.2404 - sparse_categorical_accuracy: 0.9405 - val_loss: 0.3544 - val_sparse_categorical_accuracy: 0.8971\n",
            "Epoch 27/100\n",
            "563/563 [==============================] - 2s 3ms/step - loss: 0.2314 - sparse_categorical_accuracy: 0.9436 - val_loss: 0.3484 - val_sparse_categorical_accuracy: 0.8989\n",
            "Epoch 28/100\n",
            "563/563 [==============================] - 2s 3ms/step - loss: 0.2233 - sparse_categorical_accuracy: 0.9441 - val_loss: 0.3448 - val_sparse_categorical_accuracy: 0.8991\n",
            "Epoch 29/100\n",
            "563/563 [==============================] - 2s 3ms/step - loss: 0.2159 - sparse_categorical_accuracy: 0.9469 - val_loss: 0.3444 - val_sparse_categorical_accuracy: 0.9013\n",
            "Epoch 30/100\n",
            "563/563 [==============================] - 2s 3ms/step - loss: 0.2092 - sparse_categorical_accuracy: 0.9467 - val_loss: 0.3340 - val_sparse_categorical_accuracy: 0.9049\n",
            "Epoch 31/100\n",
            "563/563 [==============================] - 2s 3ms/step - loss: 0.2002 - sparse_categorical_accuracy: 0.9490 - val_loss: 0.3310 - val_sparse_categorical_accuracy: 0.9029\n",
            "Epoch 32/100\n",
            "563/563 [==============================] - 2s 3ms/step - loss: 0.1951 - sparse_categorical_accuracy: 0.9502 - val_loss: 0.3341 - val_sparse_categorical_accuracy: 0.9036\n",
            "Epoch 33/100\n",
            "563/563 [==============================] - 2s 3ms/step - loss: 0.1883 - sparse_categorical_accuracy: 0.9536 - val_loss: 0.3286 - val_sparse_categorical_accuracy: 0.9029\n",
            "Epoch 34/100\n",
            "563/563 [==============================] - 2s 3ms/step - loss: 0.1834 - sparse_categorical_accuracy: 0.9539 - val_loss: 0.3262 - val_sparse_categorical_accuracy: 0.9044\n",
            "Epoch 35/100\n",
            "563/563 [==============================] - 2s 3ms/step - loss: 0.1780 - sparse_categorical_accuracy: 0.9549 - val_loss: 0.3226 - val_sparse_categorical_accuracy: 0.9029\n",
            "Epoch 36/100\n",
            "563/563 [==============================] - 2s 3ms/step - loss: 0.1724 - sparse_categorical_accuracy: 0.9567 - val_loss: 0.3184 - val_sparse_categorical_accuracy: 0.9062\n",
            "Epoch 37/100\n",
            "563/563 [==============================] - 2s 3ms/step - loss: 0.1664 - sparse_categorical_accuracy: 0.9576 - val_loss: 0.3184 - val_sparse_categorical_accuracy: 0.9056\n",
            "Epoch 38/100\n",
            "563/563 [==============================] - 2s 3ms/step - loss: 0.1616 - sparse_categorical_accuracy: 0.9604 - val_loss: 0.3130 - val_sparse_categorical_accuracy: 0.9129\n",
            "Epoch 39/100\n",
            "563/563 [==============================] - 2s 3ms/step - loss: 0.1567 - sparse_categorical_accuracy: 0.9608 - val_loss: 0.3033 - val_sparse_categorical_accuracy: 0.9147\n",
            "Epoch 40/100\n",
            "563/563 [==============================] - 2s 3ms/step - loss: 0.1536 - sparse_categorical_accuracy: 0.9613 - val_loss: 0.3071 - val_sparse_categorical_accuracy: 0.9131\n",
            "Epoch 41/100\n",
            "563/563 [==============================] - 2s 3ms/step - loss: 0.1481 - sparse_categorical_accuracy: 0.9632 - val_loss: 0.3076 - val_sparse_categorical_accuracy: 0.9071\n",
            "Epoch 42/100\n",
            "563/563 [==============================] - 2s 3ms/step - loss: 0.1455 - sparse_categorical_accuracy: 0.9636 - val_loss: 0.3087 - val_sparse_categorical_accuracy: 0.9076\n",
            "Epoch 43/100\n",
            "563/563 [==============================] - 2s 3ms/step - loss: 0.1408 - sparse_categorical_accuracy: 0.9652 - val_loss: 0.3024 - val_sparse_categorical_accuracy: 0.9138\n",
            "Epoch 44/100\n",
            "563/563 [==============================] - 2s 3ms/step - loss: 0.1363 - sparse_categorical_accuracy: 0.9670 - val_loss: 0.3054 - val_sparse_categorical_accuracy: 0.9149\n",
            "Epoch 45/100\n",
            "563/563 [==============================] - 2s 3ms/step - loss: 0.1324 - sparse_categorical_accuracy: 0.9683 - val_loss: 0.3014 - val_sparse_categorical_accuracy: 0.9096\n",
            "Epoch 46/100\n",
            "563/563 [==============================] - 2s 3ms/step - loss: 0.1288 - sparse_categorical_accuracy: 0.9702 - val_loss: 0.3043 - val_sparse_categorical_accuracy: 0.9098\n",
            "Epoch 47/100\n",
            "563/563 [==============================] - 2s 3ms/step - loss: 0.1257 - sparse_categorical_accuracy: 0.9713 - val_loss: 0.3039 - val_sparse_categorical_accuracy: 0.9122\n",
            "Epoch 48/100\n",
            "563/563 [==============================] - 2s 3ms/step - loss: 0.1220 - sparse_categorical_accuracy: 0.9702 - val_loss: 0.3076 - val_sparse_categorical_accuracy: 0.9129\n",
            "Epoch 49/100\n",
            "563/563 [==============================] - 2s 3ms/step - loss: 0.1194 - sparse_categorical_accuracy: 0.9714 - val_loss: 0.3024 - val_sparse_categorical_accuracy: 0.9124\n",
            "Epoch 50/100\n",
            "563/563 [==============================] - 2s 3ms/step - loss: 0.1162 - sparse_categorical_accuracy: 0.9735 - val_loss: 0.3014 - val_sparse_categorical_accuracy: 0.9109\n",
            "Epoch 51/100\n",
            "563/563 [==============================] - 2s 3ms/step - loss: 0.1131 - sparse_categorical_accuracy: 0.9736 - val_loss: 0.3007 - val_sparse_categorical_accuracy: 0.9124\n",
            "Epoch 52/100\n",
            "563/563 [==============================] - 2s 3ms/step - loss: 0.1095 - sparse_categorical_accuracy: 0.9752 - val_loss: 0.2990 - val_sparse_categorical_accuracy: 0.9142\n",
            "Epoch 53/100\n",
            "563/563 [==============================] - 2s 3ms/step - loss: 0.1067 - sparse_categorical_accuracy: 0.9760 - val_loss: 0.3024 - val_sparse_categorical_accuracy: 0.9140\n",
            "Epoch 54/100\n",
            "563/563 [==============================] - 2s 3ms/step - loss: 0.1044 - sparse_categorical_accuracy: 0.9760 - val_loss: 0.3018 - val_sparse_categorical_accuracy: 0.9120\n",
            "Epoch 55/100\n",
            "563/563 [==============================] - 2s 3ms/step - loss: 0.1025 - sparse_categorical_accuracy: 0.9752 - val_loss: 0.2974 - val_sparse_categorical_accuracy: 0.9156\n",
            "Epoch 56/100\n",
            "563/563 [==============================] - 2s 3ms/step - loss: 0.0980 - sparse_categorical_accuracy: 0.9781 - val_loss: 0.2926 - val_sparse_categorical_accuracy: 0.9160\n",
            "Epoch 57/100\n",
            "563/563 [==============================] - 2s 3ms/step - loss: 0.0965 - sparse_categorical_accuracy: 0.9789 - val_loss: 0.2969 - val_sparse_categorical_accuracy: 0.9158\n",
            "Epoch 58/100\n",
            "563/563 [==============================] - 2s 3ms/step - loss: 0.0931 - sparse_categorical_accuracy: 0.9789 - val_loss: 0.2962 - val_sparse_categorical_accuracy: 0.9176\n",
            "Epoch 59/100\n",
            "563/563 [==============================] - 2s 3ms/step - loss: 0.0905 - sparse_categorical_accuracy: 0.9798 - val_loss: 0.2966 - val_sparse_categorical_accuracy: 0.9173\n",
            "Epoch 60/100\n",
            "563/563 [==============================] - 2s 3ms/step - loss: 0.0893 - sparse_categorical_accuracy: 0.9812 - val_loss: 0.2932 - val_sparse_categorical_accuracy: 0.9149\n",
            "Epoch 61/100\n",
            "563/563 [==============================] - 2s 3ms/step - loss: 0.0858 - sparse_categorical_accuracy: 0.9819 - val_loss: 0.2955 - val_sparse_categorical_accuracy: 0.9182\n",
            "Epoch 62/100\n",
            "563/563 [==============================] - 2s 3ms/step - loss: 0.0853 - sparse_categorical_accuracy: 0.9808 - val_loss: 0.2955 - val_sparse_categorical_accuracy: 0.9158\n",
            "Epoch 63/100\n",
            "563/563 [==============================] - 2s 3ms/step - loss: 0.0818 - sparse_categorical_accuracy: 0.9829 - val_loss: 0.3007 - val_sparse_categorical_accuracy: 0.9138\n",
            "Epoch 64/100\n",
            "563/563 [==============================] - 2s 3ms/step - loss: 0.0799 - sparse_categorical_accuracy: 0.9829 - val_loss: 0.2952 - val_sparse_categorical_accuracy: 0.9149\n",
            "Epoch 65/100\n",
            "563/563 [==============================] - 2s 3ms/step - loss: 0.0774 - sparse_categorical_accuracy: 0.9832 - val_loss: 0.3007 - val_sparse_categorical_accuracy: 0.9151\n",
            "Epoch 66/100\n",
            "563/563 [==============================] - 2s 3ms/step - loss: 0.0760 - sparse_categorical_accuracy: 0.9850 - val_loss: 0.2931 - val_sparse_categorical_accuracy: 0.9184\n",
            "Epoch 67/100\n",
            "563/563 [==============================] - 2s 3ms/step - loss: 0.0743 - sparse_categorical_accuracy: 0.9846 - val_loss: 0.2998 - val_sparse_categorical_accuracy: 0.9162\n",
            "Epoch 68/100\n",
            "563/563 [==============================] - 2s 3ms/step - loss: 0.0722 - sparse_categorical_accuracy: 0.9858 - val_loss: 0.2955 - val_sparse_categorical_accuracy: 0.9191\n",
            "Epoch 69/100\n",
            "563/563 [==============================] - 2s 3ms/step - loss: 0.0713 - sparse_categorical_accuracy: 0.9843 - val_loss: 0.2989 - val_sparse_categorical_accuracy: 0.9191\n",
            "Epoch 70/100\n",
            "563/563 [==============================] - 2s 3ms/step - loss: 0.0684 - sparse_categorical_accuracy: 0.9860 - val_loss: 0.3059 - val_sparse_categorical_accuracy: 0.9160\n",
            "Epoch 71/100\n",
            "563/563 [==============================] - 2s 3ms/step - loss: 0.0670 - sparse_categorical_accuracy: 0.9862 - val_loss: 0.3018 - val_sparse_categorical_accuracy: 0.9180\n",
            "Epoch 72/100\n",
            "563/563 [==============================] - 2s 3ms/step - loss: 0.0648 - sparse_categorical_accuracy: 0.9877 - val_loss: 0.2982 - val_sparse_categorical_accuracy: 0.9173\n",
            "Epoch 73/100\n",
            "563/563 [==============================] - 2s 3ms/step - loss: 0.0634 - sparse_categorical_accuracy: 0.9877 - val_loss: 0.3042 - val_sparse_categorical_accuracy: 0.9164\n",
            "Epoch 74/100\n",
            "563/563 [==============================] - 2s 3ms/step - loss: 0.0625 - sparse_categorical_accuracy: 0.9882 - val_loss: 0.2967 - val_sparse_categorical_accuracy: 0.9211\n",
            "Epoch 75/100\n",
            "563/563 [==============================] - 2s 3ms/step - loss: 0.0608 - sparse_categorical_accuracy: 0.9876 - val_loss: 0.3081 - val_sparse_categorical_accuracy: 0.9180\n",
            "Epoch 76/100\n",
            "563/563 [==============================] - 2s 3ms/step - loss: 0.0587 - sparse_categorical_accuracy: 0.9890 - val_loss: 0.3100 - val_sparse_categorical_accuracy: 0.9189\n",
            "Epoch 77/100\n",
            "563/563 [==============================] - 2s 3ms/step - loss: 0.0580 - sparse_categorical_accuracy: 0.9896 - val_loss: 0.3108 - val_sparse_categorical_accuracy: 0.9173\n",
            "Epoch 78/100\n",
            "563/563 [==============================] - 2s 3ms/step - loss: 0.0562 - sparse_categorical_accuracy: 0.9887 - val_loss: 0.3028 - val_sparse_categorical_accuracy: 0.9167\n",
            "Epoch 79/100\n",
            "563/563 [==============================] - 2s 3ms/step - loss: 0.0555 - sparse_categorical_accuracy: 0.9893 - val_loss: 0.3025 - val_sparse_categorical_accuracy: 0.9169\n",
            "Epoch 80/100\n",
            "563/563 [==============================] - 2s 3ms/step - loss: 0.0534 - sparse_categorical_accuracy: 0.9897 - val_loss: 0.3010 - val_sparse_categorical_accuracy: 0.9229\n",
            "Epoch 81/100\n",
            "563/563 [==============================] - 2s 3ms/step - loss: 0.0522 - sparse_categorical_accuracy: 0.9901 - val_loss: 0.3041 - val_sparse_categorical_accuracy: 0.9202\n",
            "Epoch 82/100\n",
            "563/563 [==============================] - 2s 3ms/step - loss: 0.0513 - sparse_categorical_accuracy: 0.9909 - val_loss: 0.3065 - val_sparse_categorical_accuracy: 0.9198\n",
            "Epoch 83/100\n",
            "563/563 [==============================] - 2s 3ms/step - loss: 0.0499 - sparse_categorical_accuracy: 0.9906 - val_loss: 0.3098 - val_sparse_categorical_accuracy: 0.9162\n",
            "Epoch 84/100\n",
            "563/563 [==============================] - 2s 3ms/step - loss: 0.0489 - sparse_categorical_accuracy: 0.9909 - val_loss: 0.3076 - val_sparse_categorical_accuracy: 0.9209\n",
            "Epoch 85/100\n",
            "563/563 [==============================] - 2s 3ms/step - loss: 0.0469 - sparse_categorical_accuracy: 0.9917 - val_loss: 0.3103 - val_sparse_categorical_accuracy: 0.9213\n",
            "Epoch 86/100\n",
            "563/563 [==============================] - 2s 3ms/step - loss: 0.0462 - sparse_categorical_accuracy: 0.9917 - val_loss: 0.3205 - val_sparse_categorical_accuracy: 0.9167\n",
            "Epoch 87/100\n",
            "563/563 [==============================] - 2s 3ms/step - loss: 0.0458 - sparse_categorical_accuracy: 0.9913 - val_loss: 0.3114 - val_sparse_categorical_accuracy: 0.9196\n",
            "Epoch 88/100\n",
            "563/563 [==============================] - 2s 3ms/step - loss: 0.0432 - sparse_categorical_accuracy: 0.9921 - val_loss: 0.3175 - val_sparse_categorical_accuracy: 0.9209\n",
            "Epoch 89/100\n",
            "563/563 [==============================] - 2s 3ms/step - loss: 0.0438 - sparse_categorical_accuracy: 0.9922 - val_loss: 0.3171 - val_sparse_categorical_accuracy: 0.9173\n",
            "Epoch 90/100\n",
            "563/563 [==============================] - 2s 3ms/step - loss: 0.0417 - sparse_categorical_accuracy: 0.9934 - val_loss: 0.3201 - val_sparse_categorical_accuracy: 0.9196\n",
            "Epoch 91/100\n",
            "563/563 [==============================] - 2s 3ms/step - loss: 0.0407 - sparse_categorical_accuracy: 0.9928 - val_loss: 0.3220 - val_sparse_categorical_accuracy: 0.9207\n",
            "Epoch 92/100\n",
            "563/563 [==============================] - 2s 3ms/step - loss: 0.0399 - sparse_categorical_accuracy: 0.9931 - val_loss: 0.3171 - val_sparse_categorical_accuracy: 0.9207\n",
            "Epoch 93/100\n",
            "563/563 [==============================] - 2s 3ms/step - loss: 0.0388 - sparse_categorical_accuracy: 0.9933 - val_loss: 0.3131 - val_sparse_categorical_accuracy: 0.9220\n",
            "Epoch 94/100\n",
            "563/563 [==============================] - 2s 3ms/step - loss: 0.0376 - sparse_categorical_accuracy: 0.9941 - val_loss: 0.3182 - val_sparse_categorical_accuracy: 0.9198\n",
            "Epoch 95/100\n",
            "563/563 [==============================] - 2s 3ms/step - loss: 0.0373 - sparse_categorical_accuracy: 0.9939 - val_loss: 0.3238 - val_sparse_categorical_accuracy: 0.9238\n",
            "Epoch 96/100\n",
            "563/563 [==============================] - 2s 3ms/step - loss: 0.0372 - sparse_categorical_accuracy: 0.9934 - val_loss: 0.3211 - val_sparse_categorical_accuracy: 0.9209\n",
            "Epoch 97/100\n",
            "563/563 [==============================] - 2s 3ms/step - loss: 0.0359 - sparse_categorical_accuracy: 0.9937 - val_loss: 0.3235 - val_sparse_categorical_accuracy: 0.9193\n",
            "Epoch 98/100\n",
            "563/563 [==============================] - 2s 3ms/step - loss: 0.0351 - sparse_categorical_accuracy: 0.9936 - val_loss: 0.3292 - val_sparse_categorical_accuracy: 0.9189\n",
            "Epoch 99/100\n",
            "563/563 [==============================] - 2s 3ms/step - loss: 0.0338 - sparse_categorical_accuracy: 0.9942 - val_loss: 0.3196 - val_sparse_categorical_accuracy: 0.9209\n",
            "Epoch 100/100\n",
            "563/563 [==============================] - 2s 3ms/step - loss: 0.0331 - sparse_categorical_accuracy: 0.9948 - val_loss: 0.3240 - val_sparse_categorical_accuracy: 0.9222\n"
          ],
          "name": "stdout"
        }
      ]
    },
    {
      "cell_type": "code",
      "metadata": {
        "id": "HClsbCi4_HwP"
      },
      "source": [
        "import matplotlib.pyplot as plt\n",
        "\n",
        "def plot_graphs(history, string):\n",
        "  plt.plot(history.history[string])\n",
        "  plt.plot(history.history['val_'+string])\n",
        "  plt.xlabel(\"Epochs\")\n",
        "  plt.ylabel(string)\n",
        "  plt.legend([string, 'val_'+string])\n",
        "  plt.show()"
      ],
      "execution_count": null,
      "outputs": []
    },
    {
      "cell_type": "code",
      "metadata": {
        "id": "jzBM1PpJAYfD",
        "colab": {
          "base_uri": "https://localhost:8080/",
          "height": 541
        },
        "outputId": "21aa7ffa-663b-4d11-cff1-8019ff9fc654"
      },
      "source": [
        "plot_graphs(history, \"sparse_categorical_accuracy\")\n",
        "plot_graphs(history, \"loss\")"
      ],
      "execution_count": null,
      "outputs": [
        {
          "output_type": "display_data",
          "data": {
            "image/png": "[encoded data removed]",
            "text/plain": [
              "<Figure size 432x288 with 1 Axes>"
            ]
          },
          "metadata": {
            "tags": [],
            "needs_background": "light"
          }
        },
        {
          "output_type": "display_data",
          "data": {
            "image/png": "[encoded data removed]",
            "text/plain": [
              "<Figure size 432x288 with 1 Axes>"
            ]
          },
          "metadata": {
            "tags": [],
            "needs_background": "light"
          }
        }
      ]
    },
    {
      "cell_type": "markdown",
      "metadata": {
        "id": "MlF6-YpdLrfi"
      },
      "source": [
        "\n",
        "\n",
        "```\n",
        "# ----------------------------------------------------------------------\n",
        "```\n",
        "\n"
      ]
    },
    {
      "cell_type": "code",
      "metadata": {
        "id": "lB1sFzQxLt44"
      },
      "source": [
        "# some stuff from Keras github\n",
        "# def predict_review(model, new_sentences, maxlen=max_length, show_padded_sequence=True ):\n",
        "#   # Keep the original sentences so that we can keep using them later\n",
        "#   # Create an array to hold the encoded sequences\n",
        "#   new_sequences = []\n",
        "\n",
        "#   # Convert the new reviews to sequences\n",
        "#   for i, frvw in enumerate(new_sentences):\n",
        "#     new_sequences.append(tokenizer.encode(frvw))\n",
        "\n",
        "#   # Pad all sequences for the new reviews\n",
        "#   new_reviews_padded = pad_sequences(new_sequences, maxlen=max_length, \n",
        "#                                  padding='post', truncating='post')             \n",
        "\n",
        "#   classes = model.predict(new_reviews_padded)\n",
        "\n",
        "#   # The closer the class is to 1, the more positive the review is\n",
        "#   for x in range(len(new_sentences)):\n",
        "    \n",
        "#     # We can see the padded sequence if desired\n",
        "#     # Print the sequence\n",
        "#     if (show_padded_sequence):\n",
        "#       print(new_reviews_padded[x])\n",
        "#     # Print the review as text\n",
        "#     print(new_sentences[x])\n",
        "#     # Print its predicted class\n",
        "#     print(classes[x])\n",
        "#     print(\"\\n\")"
      ],
      "execution_count": null,
      "outputs": []
    },
    {
      "cell_type": "markdown",
      "metadata": {
        "id": "0eXSi5xQ_CV_"
      },
      "source": [
        "\n",
        "\n",
        "```\n",
        "# ----------------------------------------------------------------------\n",
        "```\n",
        "\n"
      ]
    },
    {
      "cell_type": "code",
      "metadata": {
        "id": "scTUsFPAG4zP",
        "colab": {
          "base_uri": "https://localhost:8080/"
        },
        "outputId": "d2561cba-635e-4cc8-e015-9424839fd53f"
      },
      "source": [
        "class DCLSTM(tf.keras.Model):\n",
        "    \n",
        "    def __init__(self):\n",
        "        super(DCLSTM, self).__init__(name='model_ii')\n",
        "        \n",
        "        # self.embedding = layers.Embedding(vocab_size, embedding_dim, input_length=max_length)\n",
        "        self.embedding = layers.Embedding(\n",
        "                            vocab_size,\n",
        "                            glove_dim,\n",
        "                            embeddings_initializer=tf.keras.initializers.Constant(emb_matrix),\n",
        "                            trainable=False)\n",
        "        # self.pool_1 = layers.GlobalAveragePooling1D()\n",
        "        self.lstm_1 = layers.Bidirectional(layers.LSTM(256))\n",
        "        self.dense_1 = layers.Dense(\n",
        "                            units=256,\n",
        "                            activation=\"relu\")\n",
        "        self.dense_last = layers.Dense(\n",
        "                            units=150,\n",
        "                            activation=\"sigmoid\")\n",
        "        self.dropout_e = layers.Dropout(rate=0.2)\n",
        "        self.dropout_d = layers.Dropout(rate=0.2)\n",
        "\n",
        "    \n",
        "    def call(self, inputs, training):\n",
        "        x = self.embedding(inputs)\n",
        "        x = self.dropout_e(x)\n",
        "        # x = self.pool_1(x)\n",
        "        x = self.lstm_1(x)\n",
        "        x = self.dense_1(x)\n",
        "        x = self.dropout_d(x)\n",
        "        output = self.dense_last(x)\n",
        "        return output\n",
        "\n",
        "model = DCLSTM()\n",
        "model.compile(loss='sparse_categorical_crossentropy',optimizer='adam',metrics=['sparse_categorical_accuracy'])\n",
        "history = model.fit(train_inputs, training_labels_final, epochs=num_epochs, validation_data=(test_inputs, testing_labels_final))"
      ],
      "execution_count": null,
      "outputs": [
        {
          "output_type": "stream",
          "text": [
            "Epoch 1/100\n",
            "563/563 [==============================] - 16s 17ms/step - loss: 2.0131 - sparse_categorical_accuracy: 0.5253 - val_loss: 0.6591 - val_sparse_categorical_accuracy: 0.8187\n",
            "Epoch 2/100\n",
            "563/563 [==============================] - 9s 16ms/step - loss: 0.5643 - sparse_categorical_accuracy: 0.8407 - val_loss: 0.4119 - val_sparse_categorical_accuracy: 0.8798\n",
            "Epoch 3/100\n",
            "563/563 [==============================] - 9s 16ms/step - loss: 0.3519 - sparse_categorical_accuracy: 0.8969 - val_loss: 0.3387 - val_sparse_categorical_accuracy: 0.9029\n",
            "Epoch 4/100\n",
            "563/563 [==============================] - 9s 16ms/step - loss: 0.2540 - sparse_categorical_accuracy: 0.9258 - val_loss: 0.2947 - val_sparse_categorical_accuracy: 0.9189\n",
            "Epoch 5/100\n",
            "563/563 [==============================] - 9s 16ms/step - loss: 0.1896 - sparse_categorical_accuracy: 0.9425 - val_loss: 0.2976 - val_sparse_categorical_accuracy: 0.9187\n",
            "Epoch 6/100\n",
            "563/563 [==============================] - 9s 16ms/step - loss: 0.1535 - sparse_categorical_accuracy: 0.9536 - val_loss: 0.2535 - val_sparse_categorical_accuracy: 0.9296\n",
            "Epoch 7/100\n",
            "563/563 [==============================] - 9s 16ms/step - loss: 0.1155 - sparse_categorical_accuracy: 0.9648 - val_loss: 0.2703 - val_sparse_categorical_accuracy: 0.9289\n",
            "Epoch 8/100\n",
            "563/563 [==============================] - 9s 16ms/step - loss: 0.0976 - sparse_categorical_accuracy: 0.9708 - val_loss: 0.2973 - val_sparse_categorical_accuracy: 0.9216\n",
            "Epoch 9/100\n",
            "563/563 [==============================] - 9s 16ms/step - loss: 0.0796 - sparse_categorical_accuracy: 0.9764 - val_loss: 0.2645 - val_sparse_categorical_accuracy: 0.9329\n",
            "Epoch 10/100\n",
            "563/563 [==============================] - 9s 16ms/step - loss: 0.0751 - sparse_categorical_accuracy: 0.9772 - val_loss: 0.2376 - val_sparse_categorical_accuracy: 0.9420\n",
            "Epoch 11/100\n",
            "563/563 [==============================] - 9s 16ms/step - loss: 0.0613 - sparse_categorical_accuracy: 0.9808 - val_loss: 0.2788 - val_sparse_categorical_accuracy: 0.9324\n",
            "Epoch 12/100\n",
            "563/563 [==============================] - 9s 16ms/step - loss: 0.0561 - sparse_categorical_accuracy: 0.9834 - val_loss: 0.2581 - val_sparse_categorical_accuracy: 0.9387\n",
            "Epoch 13/100\n",
            "563/563 [==============================] - 9s 16ms/step - loss: 0.0436 - sparse_categorical_accuracy: 0.9870 - val_loss: 0.2560 - val_sparse_categorical_accuracy: 0.9396\n",
            "Epoch 14/100\n",
            "563/563 [==============================] - 9s 16ms/step - loss: 0.0411 - sparse_categorical_accuracy: 0.9876 - val_loss: 0.2599 - val_sparse_categorical_accuracy: 0.9442\n",
            "Epoch 15/100\n",
            "563/563 [==============================] - 9s 16ms/step - loss: 0.0411 - sparse_categorical_accuracy: 0.9874 - val_loss: 0.2552 - val_sparse_categorical_accuracy: 0.9427\n",
            "Epoch 16/100\n",
            "563/563 [==============================] - 9s 16ms/step - loss: 0.0356 - sparse_categorical_accuracy: 0.9896 - val_loss: 0.2871 - val_sparse_categorical_accuracy: 0.9344\n",
            "Epoch 17/100\n",
            "563/563 [==============================] - 9s 16ms/step - loss: 0.0328 - sparse_categorical_accuracy: 0.9906 - val_loss: 0.2854 - val_sparse_categorical_accuracy: 0.9356\n",
            "Epoch 18/100\n",
            "563/563 [==============================] - 9s 16ms/step - loss: 0.0350 - sparse_categorical_accuracy: 0.9902 - val_loss: 0.2873 - val_sparse_categorical_accuracy: 0.9384\n",
            "Epoch 19/100\n",
            "563/563 [==============================] - 9s 16ms/step - loss: 0.0289 - sparse_categorical_accuracy: 0.9910 - val_loss: 0.2905 - val_sparse_categorical_accuracy: 0.9398\n",
            "Epoch 20/100\n",
            "563/563 [==============================] - 9s 16ms/step - loss: 0.0273 - sparse_categorical_accuracy: 0.9911 - val_loss: 0.3091 - val_sparse_categorical_accuracy: 0.9409\n",
            "Epoch 21/100\n",
            "563/563 [==============================] - 9s 16ms/step - loss: 0.0334 - sparse_categorical_accuracy: 0.9889 - val_loss: 0.2924 - val_sparse_categorical_accuracy: 0.9398\n",
            "Epoch 22/100\n",
            "563/563 [==============================] - 9s 16ms/step - loss: 0.0243 - sparse_categorical_accuracy: 0.9927 - val_loss: 0.2976 - val_sparse_categorical_accuracy: 0.9420\n",
            "Epoch 23/100\n",
            "563/563 [==============================] - 9s 16ms/step - loss: 0.0290 - sparse_categorical_accuracy: 0.9923 - val_loss: 0.2957 - val_sparse_categorical_accuracy: 0.9420\n",
            "Epoch 24/100\n",
            "563/563 [==============================] - 9s 16ms/step - loss: 0.0242 - sparse_categorical_accuracy: 0.9929 - val_loss: 0.3292 - val_sparse_categorical_accuracy: 0.9356\n",
            "Epoch 25/100\n",
            "563/563 [==============================] - 9s 16ms/step - loss: 0.0231 - sparse_categorical_accuracy: 0.9927 - val_loss: 0.3024 - val_sparse_categorical_accuracy: 0.9420\n",
            "Epoch 26/100\n",
            "563/563 [==============================] - 9s 16ms/step - loss: 0.0191 - sparse_categorical_accuracy: 0.9938 - val_loss: 0.3011 - val_sparse_categorical_accuracy: 0.9460\n",
            "Epoch 27/100\n",
            "563/563 [==============================] - 9s 16ms/step - loss: 0.0196 - sparse_categorical_accuracy: 0.9945 - val_loss: 0.3086 - val_sparse_categorical_accuracy: 0.9438\n",
            "Epoch 28/100\n",
            "563/563 [==============================] - 9s 16ms/step - loss: 0.0193 - sparse_categorical_accuracy: 0.9944 - val_loss: 0.3093 - val_sparse_categorical_accuracy: 0.9422\n",
            "Epoch 29/100\n",
            "563/563 [==============================] - 9s 17ms/step - loss: 0.0225 - sparse_categorical_accuracy: 0.9931 - val_loss: 0.3613 - val_sparse_categorical_accuracy: 0.9382\n",
            "Epoch 30/100\n",
            "563/563 [==============================] - 9s 16ms/step - loss: 0.0183 - sparse_categorical_accuracy: 0.9940 - val_loss: 0.3517 - val_sparse_categorical_accuracy: 0.9398\n",
            "Epoch 31/100\n",
            "563/563 [==============================] - 9s 16ms/step - loss: 0.0280 - sparse_categorical_accuracy: 0.9916 - val_loss: 0.3307 - val_sparse_categorical_accuracy: 0.9427\n",
            "Epoch 32/100\n",
            "563/563 [==============================] - 9s 17ms/step - loss: 0.0138 - sparse_categorical_accuracy: 0.9962 - val_loss: 0.3262 - val_sparse_categorical_accuracy: 0.9458\n",
            "Epoch 33/100\n",
            "563/563 [==============================] - 9s 17ms/step - loss: 0.0196 - sparse_categorical_accuracy: 0.9939 - val_loss: 0.3594 - val_sparse_categorical_accuracy: 0.9409\n",
            "Epoch 34/100\n",
            "563/563 [==============================] - 9s 17ms/step - loss: 0.0156 - sparse_categorical_accuracy: 0.9948 - val_loss: 0.3618 - val_sparse_categorical_accuracy: 0.9440\n",
            "Epoch 35/100\n",
            "563/563 [==============================] - 9s 17ms/step - loss: 0.0142 - sparse_categorical_accuracy: 0.9956 - val_loss: 0.3331 - val_sparse_categorical_accuracy: 0.9449\n",
            "Epoch 36/100\n",
            "563/563 [==============================] - 9s 17ms/step - loss: 0.0154 - sparse_categorical_accuracy: 0.9948 - val_loss: 0.3559 - val_sparse_categorical_accuracy: 0.9464\n",
            "Epoch 37/100\n",
            "563/563 [==============================] - 9s 17ms/step - loss: 0.0186 - sparse_categorical_accuracy: 0.9941 - val_loss: 0.3477 - val_sparse_categorical_accuracy: 0.9431\n",
            "Epoch 38/100\n",
            "563/563 [==============================] - 9s 17ms/step - loss: 0.0153 - sparse_categorical_accuracy: 0.9948 - val_loss: 0.3698 - val_sparse_categorical_accuracy: 0.9411\n",
            "Epoch 39/100\n",
            "563/563 [==============================] - 10s 17ms/step - loss: 0.0187 - sparse_categorical_accuracy: 0.9943 - val_loss: 0.3909 - val_sparse_categorical_accuracy: 0.9420\n",
            "Epoch 40/100\n",
            "563/563 [==============================] - 9s 17ms/step - loss: 0.0154 - sparse_categorical_accuracy: 0.9952 - val_loss: 0.3871 - val_sparse_categorical_accuracy: 0.9429\n",
            "Epoch 41/100\n",
            "563/563 [==============================] - 9s 17ms/step - loss: 0.0156 - sparse_categorical_accuracy: 0.9950 - val_loss: 0.3682 - val_sparse_categorical_accuracy: 0.9447\n",
            "Epoch 42/100\n",
            "563/563 [==============================] - 9s 16ms/step - loss: 0.0159 - sparse_categorical_accuracy: 0.9949 - val_loss: 0.3592 - val_sparse_categorical_accuracy: 0.9484\n",
            "Epoch 43/100\n",
            "563/563 [==============================] - 9s 16ms/step - loss: 0.0182 - sparse_categorical_accuracy: 0.9946 - val_loss: 0.3970 - val_sparse_categorical_accuracy: 0.9429\n",
            "Epoch 44/100\n",
            "563/563 [==============================] - 9s 16ms/step - loss: 0.0160 - sparse_categorical_accuracy: 0.9952 - val_loss: 0.3787 - val_sparse_categorical_accuracy: 0.9449\n",
            "Epoch 45/100\n",
            "563/563 [==============================] - 9s 17ms/step - loss: 0.0158 - sparse_categorical_accuracy: 0.9951 - val_loss: 0.3574 - val_sparse_categorical_accuracy: 0.9451\n",
            "Epoch 46/100\n",
            "563/563 [==============================] - 9s 17ms/step - loss: 0.0139 - sparse_categorical_accuracy: 0.9958 - val_loss: 0.3842 - val_sparse_categorical_accuracy: 0.9449\n",
            "Epoch 47/100\n",
            "563/563 [==============================] - 9s 16ms/step - loss: 0.0159 - sparse_categorical_accuracy: 0.9945 - val_loss: 0.3909 - val_sparse_categorical_accuracy: 0.9436\n",
            "Epoch 48/100\n",
            "563/563 [==============================] - 9s 17ms/step - loss: 0.0130 - sparse_categorical_accuracy: 0.9958 - val_loss: 0.3699 - val_sparse_categorical_accuracy: 0.9458\n",
            "Epoch 49/100\n",
            "563/563 [==============================] - 9s 17ms/step - loss: 0.0121 - sparse_categorical_accuracy: 0.9957 - val_loss: 0.3831 - val_sparse_categorical_accuracy: 0.9433\n",
            "Epoch 50/100\n",
            "563/563 [==============================] - 9s 17ms/step - loss: 0.0095 - sparse_categorical_accuracy: 0.9972 - val_loss: 0.3703 - val_sparse_categorical_accuracy: 0.9424\n",
            "Epoch 51/100\n",
            "563/563 [==============================] - 9s 17ms/step - loss: 0.0209 - sparse_categorical_accuracy: 0.9932 - val_loss: 0.3928 - val_sparse_categorical_accuracy: 0.9456\n",
            "Epoch 52/100\n",
            "563/563 [==============================] - 9s 17ms/step - loss: 0.0109 - sparse_categorical_accuracy: 0.9961 - val_loss: 0.3955 - val_sparse_categorical_accuracy: 0.9449\n",
            "Epoch 53/100\n",
            "563/563 [==============================] - 9s 17ms/step - loss: 0.0146 - sparse_categorical_accuracy: 0.9959 - val_loss: 0.4106 - val_sparse_categorical_accuracy: 0.9436\n",
            "Epoch 54/100\n",
            "563/563 [==============================] - 9s 17ms/step - loss: 0.0149 - sparse_categorical_accuracy: 0.9957 - val_loss: 0.4022 - val_sparse_categorical_accuracy: 0.9460\n",
            "Epoch 55/100\n",
            "563/563 [==============================] - 9s 17ms/step - loss: 0.0146 - sparse_categorical_accuracy: 0.9954 - val_loss: 0.3922 - val_sparse_categorical_accuracy: 0.9462\n",
            "Epoch 56/100\n",
            "563/563 [==============================] - 9s 16ms/step - loss: 0.0175 - sparse_categorical_accuracy: 0.9945 - val_loss: 0.3783 - val_sparse_categorical_accuracy: 0.9467\n",
            "Epoch 57/100\n",
            "563/563 [==============================] - 9s 16ms/step - loss: 0.0122 - sparse_categorical_accuracy: 0.9962 - val_loss: 0.3912 - val_sparse_categorical_accuracy: 0.9422\n",
            "Epoch 58/100\n",
            "563/563 [==============================] - 9s 17ms/step - loss: 0.0143 - sparse_categorical_accuracy: 0.9961 - val_loss: 0.3750 - val_sparse_categorical_accuracy: 0.9442\n",
            "Epoch 59/100\n",
            "563/563 [==============================] - 9s 17ms/step - loss: 0.0127 - sparse_categorical_accuracy: 0.9959 - val_loss: 0.4016 - val_sparse_categorical_accuracy: 0.9429\n",
            "Epoch 60/100\n",
            "563/563 [==============================] - 9s 17ms/step - loss: 0.0099 - sparse_categorical_accuracy: 0.9958 - val_loss: 0.4154 - val_sparse_categorical_accuracy: 0.9424\n",
            "Epoch 61/100\n",
            "563/563 [==============================] - 9s 17ms/step - loss: 0.0081 - sparse_categorical_accuracy: 0.9971 - val_loss: 0.4120 - val_sparse_categorical_accuracy: 0.9471\n",
            "Epoch 62/100\n",
            "563/563 [==============================] - 9s 16ms/step - loss: 0.0141 - sparse_categorical_accuracy: 0.9958 - val_loss: 0.4175 - val_sparse_categorical_accuracy: 0.9487\n",
            "Epoch 63/100\n",
            "563/563 [==============================] - 9s 17ms/step - loss: 0.0098 - sparse_categorical_accuracy: 0.9963 - val_loss: 0.4135 - val_sparse_categorical_accuracy: 0.9467\n",
            "Epoch 64/100\n",
            "563/563 [==============================] - 9s 17ms/step - loss: 0.0064 - sparse_categorical_accuracy: 0.9980 - val_loss: 0.4106 - val_sparse_categorical_accuracy: 0.9451\n",
            "Epoch 65/100\n",
            "563/563 [==============================] - 9s 16ms/step - loss: 0.0084 - sparse_categorical_accuracy: 0.9975 - val_loss: 0.4329 - val_sparse_categorical_accuracy: 0.9458\n",
            "Epoch 66/100\n",
            "563/563 [==============================] - 9s 16ms/step - loss: 0.0155 - sparse_categorical_accuracy: 0.9952 - val_loss: 0.4288 - val_sparse_categorical_accuracy: 0.9449\n",
            "Epoch 67/100\n",
            "563/563 [==============================] - 9s 16ms/step - loss: 0.0115 - sparse_categorical_accuracy: 0.9959 - val_loss: 0.4248 - val_sparse_categorical_accuracy: 0.9482\n",
            "Epoch 68/100\n",
            "563/563 [==============================] - 9s 17ms/step - loss: 0.0138 - sparse_categorical_accuracy: 0.9962 - val_loss: 0.4375 - val_sparse_categorical_accuracy: 0.9442\n",
            "Epoch 69/100\n",
            "563/563 [==============================] - 9s 16ms/step - loss: 0.0128 - sparse_categorical_accuracy: 0.9959 - val_loss: 0.4377 - val_sparse_categorical_accuracy: 0.9453\n",
            "Epoch 70/100\n",
            "563/563 [==============================] - 9s 17ms/step - loss: 0.0115 - sparse_categorical_accuracy: 0.9962 - val_loss: 0.4490 - val_sparse_categorical_accuracy: 0.9449\n",
            "Epoch 71/100\n",
            "563/563 [==============================] - 10s 17ms/step - loss: 0.0113 - sparse_categorical_accuracy: 0.9968 - val_loss: 0.4663 - val_sparse_categorical_accuracy: 0.9402\n",
            "Epoch 72/100\n",
            "563/563 [==============================] - 10s 17ms/step - loss: 0.0136 - sparse_categorical_accuracy: 0.9955 - val_loss: 0.4685 - val_sparse_categorical_accuracy: 0.9460\n",
            "Epoch 73/100\n",
            "563/563 [==============================] - 9s 17ms/step - loss: 0.0132 - sparse_categorical_accuracy: 0.9963 - val_loss: 0.4860 - val_sparse_categorical_accuracy: 0.9422\n",
            "Epoch 74/100\n",
            "563/563 [==============================] - 9s 16ms/step - loss: 0.0144 - sparse_categorical_accuracy: 0.9955 - val_loss: 0.4703 - val_sparse_categorical_accuracy: 0.9433\n",
            "Epoch 75/100\n",
            "563/563 [==============================] - 9s 17ms/step - loss: 0.0110 - sparse_categorical_accuracy: 0.9967 - val_loss: 0.4486 - val_sparse_categorical_accuracy: 0.9471\n",
            "Epoch 76/100\n",
            "563/563 [==============================] - 9s 17ms/step - loss: 0.0134 - sparse_categorical_accuracy: 0.9963 - val_loss: 0.4397 - val_sparse_categorical_accuracy: 0.9433\n",
            "Epoch 77/100\n",
            "563/563 [==============================] - 9s 17ms/step - loss: 0.0131 - sparse_categorical_accuracy: 0.9964 - val_loss: 0.4493 - val_sparse_categorical_accuracy: 0.9464\n",
            "Epoch 78/100\n",
            "563/563 [==============================] - 9s 17ms/step - loss: 0.0161 - sparse_categorical_accuracy: 0.9953 - val_loss: 0.4438 - val_sparse_categorical_accuracy: 0.9469\n",
            "Epoch 79/100\n",
            "563/563 [==============================] - 9s 17ms/step - loss: 0.0091 - sparse_categorical_accuracy: 0.9969 - val_loss: 0.4630 - val_sparse_categorical_accuracy: 0.9493\n",
            "Epoch 80/100\n",
            "563/563 [==============================] - 9s 17ms/step - loss: 0.0102 - sparse_categorical_accuracy: 0.9966 - val_loss: 0.4864 - val_sparse_categorical_accuracy: 0.9449\n",
            "Epoch 81/100\n",
            "563/563 [==============================] - 9s 17ms/step - loss: 0.0105 - sparse_categorical_accuracy: 0.9965 - val_loss: 0.4312 - val_sparse_categorical_accuracy: 0.9507\n",
            "Epoch 82/100\n",
            "563/563 [==============================] - 9s 17ms/step - loss: 0.0103 - sparse_categorical_accuracy: 0.9962 - val_loss: 0.4621 - val_sparse_categorical_accuracy: 0.9473\n",
            "Epoch 83/100\n",
            "563/563 [==============================] - 9s 17ms/step - loss: 0.0093 - sparse_categorical_accuracy: 0.9965 - val_loss: 0.4645 - val_sparse_categorical_accuracy: 0.9462\n",
            "Epoch 84/100\n",
            "563/563 [==============================] - 9s 17ms/step - loss: 0.0123 - sparse_categorical_accuracy: 0.9966 - val_loss: 0.4888 - val_sparse_categorical_accuracy: 0.9449\n",
            "Epoch 85/100\n",
            "563/563 [==============================] - 9s 17ms/step - loss: 0.0133 - sparse_categorical_accuracy: 0.9967 - val_loss: 0.4796 - val_sparse_categorical_accuracy: 0.9467\n",
            "Epoch 86/100\n",
            "563/563 [==============================] - 9s 17ms/step - loss: 0.0113 - sparse_categorical_accuracy: 0.9966 - val_loss: 0.4658 - val_sparse_categorical_accuracy: 0.9431\n",
            "Epoch 87/100\n",
            "563/563 [==============================] - 9s 17ms/step - loss: 0.0159 - sparse_categorical_accuracy: 0.9958 - val_loss: 0.4534 - val_sparse_categorical_accuracy: 0.9471\n",
            "Epoch 88/100\n",
            "563/563 [==============================] - 9s 17ms/step - loss: 0.0096 - sparse_categorical_accuracy: 0.9973 - val_loss: 0.4521 - val_sparse_categorical_accuracy: 0.9469\n",
            "Epoch 89/100\n",
            "563/563 [==============================] - 9s 17ms/step - loss: 0.0120 - sparse_categorical_accuracy: 0.9968 - val_loss: 0.4629 - val_sparse_categorical_accuracy: 0.9467\n",
            "Epoch 90/100\n",
            "563/563 [==============================] - 9s 17ms/step - loss: 0.0119 - sparse_categorical_accuracy: 0.9966 - val_loss: 0.4637 - val_sparse_categorical_accuracy: 0.9444\n",
            "Epoch 91/100\n",
            "563/563 [==============================] - 9s 17ms/step - loss: 0.0092 - sparse_categorical_accuracy: 0.9973 - val_loss: 0.4733 - val_sparse_categorical_accuracy: 0.9471\n",
            "Epoch 92/100\n",
            "563/563 [==============================] - 9s 17ms/step - loss: 0.0101 - sparse_categorical_accuracy: 0.9969 - val_loss: 0.4650 - val_sparse_categorical_accuracy: 0.9476\n",
            "Epoch 93/100\n",
            "563/563 [==============================] - 9s 17ms/step - loss: 0.0110 - sparse_categorical_accuracy: 0.9964 - val_loss: 0.5029 - val_sparse_categorical_accuracy: 0.9440\n",
            "Epoch 94/100\n",
            "563/563 [==============================] - 9s 17ms/step - loss: 0.0126 - sparse_categorical_accuracy: 0.9966 - val_loss: 0.4823 - val_sparse_categorical_accuracy: 0.9456\n",
            "Epoch 95/100\n",
            "563/563 [==============================] - 9s 17ms/step - loss: 0.0104 - sparse_categorical_accuracy: 0.9969 - val_loss: 0.4797 - val_sparse_categorical_accuracy: 0.9460\n",
            "Epoch 96/100\n",
            "563/563 [==============================] - 9s 17ms/step - loss: 0.0103 - sparse_categorical_accuracy: 0.9970 - val_loss: 0.4801 - val_sparse_categorical_accuracy: 0.9469\n",
            "Epoch 97/100\n",
            "563/563 [==============================] - 9s 16ms/step - loss: 0.0095 - sparse_categorical_accuracy: 0.9967 - val_loss: 0.4826 - val_sparse_categorical_accuracy: 0.9467\n",
            "Epoch 98/100\n",
            "563/563 [==============================] - 9s 16ms/step - loss: 0.0156 - sparse_categorical_accuracy: 0.9947 - val_loss: 0.4804 - val_sparse_categorical_accuracy: 0.9429\n",
            "Epoch 99/100\n",
            "563/563 [==============================] - 9s 17ms/step - loss: 0.0158 - sparse_categorical_accuracy: 0.9953 - val_loss: 0.5047 - val_sparse_categorical_accuracy: 0.9444\n",
            "Epoch 100/100\n",
            "563/563 [==============================] - 9s 17ms/step - loss: 0.0120 - sparse_categorical_accuracy: 0.9961 - val_loss: 0.4806 - val_sparse_categorical_accuracy: 0.9484\n"
          ],
          "name": "stdout"
        }
      ]
    },
    {
      "cell_type": "code",
      "metadata": {
        "id": "LkCrXwAn4HvY",
        "colab": {
          "base_uri": "https://localhost:8080/",
          "height": 541
        },
        "outputId": "71384af9-e23d-4fca-98b0-ae212aca1950"
      },
      "source": [
        "plot_graphs(history, \"sparse_categorical_accuracy\")\n",
        "plot_graphs(history, \"loss\")"
      ],
      "execution_count": null,
      "outputs": [
        {
          "output_type": "display_data",
          "data": {
            "image/png": "[encoded data removed]",
            "text/plain": [
              "<Figure size 432x288 with 1 Axes>"
            ]
          },
          "metadata": {
            "tags": [],
            "needs_background": "light"
          }
        },
        {
          "output_type": "display_data",
          "data": {
            "image/png": "[encoded data removed]",
            "text/plain": [
              "<Figure size 432x288 with 1 Axes>"
            ]
          },
          "metadata": {
            "tags": [],
            "needs_background": "light"
          }
        }
      ]
    },
    {
      "cell_type": "markdown",
      "metadata": {
        "id": "6FHhfiWTBN3X"
      },
      "source": [
        "\n",
        "\n",
        "```\n",
        "# ----------------------------------------------------------------------\n",
        "```\n",
        "\n"
      ]
    },
    {
      "cell_type": "code",
      "metadata": {
        "id": "fkFWc-114Txg",
        "colab": {
          "base_uri": "https://localhost:8080/"
        },
        "outputId": "92d470a0-a415-4e65-922b-7e347ff893f6"
      },
      "source": [
        "class DCLSTM(tf.keras.Model):\n",
        "    \n",
        "    def __init__(self):\n",
        "        super(DCLSTM, self).__init__(name='model_iii')\n",
        "        \n",
        "        # self.embedding = layers.Embedding(vocab_size, embedding_dim, input_length=max_length)\n",
        "        self.embedding = layers.Embedding(\n",
        "                            vocab_size,\n",
        "                            glove_dim,\n",
        "                            embeddings_initializer=tf.keras.initializers.Constant(emb_matrix),\n",
        "                            trainable=False)\n",
        "        # self.pool_1 = layers.GlobalAveragePooling1D()\n",
        "        self.lstm_1 = layers.Bidirectional(layers.LSTM(256, return_sequences=True, dropout=0.2))\n",
        "        self.lstm_2 = layers.Bidirectional(layers.LSTM(256, dropout=0.2))\n",
        "        self.rv_1 = layers.RepeatVector(3)\n",
        "        self.dense_1 = layers.Dense(\n",
        "                            units=256,\n",
        "                            activation=\"relu\")\n",
        "        self.dense_last = layers.Dense(\n",
        "                            units=150,\n",
        "                            activation=\"sigmoid\")\n",
        "        self.dropout_e = layers.Dropout(rate=0.2)\n",
        "        self.dropout_d = layers.Dropout(rate=0.2)\n",
        "\n",
        "    \n",
        "    def call(self, inputs, training):\n",
        "        x = self.embedding(inputs)\n",
        "        x = self.dropout_e(x)\n",
        "        # x = self.pool_1(x)\n",
        "        x = self.lstm_1(x)\n",
        "        x = self.lstm_2(x)\n",
        "        x = self.dense_1(x)\n",
        "        x = self.dropout_d(x)\n",
        "        output = self.dense_last(x)\n",
        "        return output\n",
        "\n",
        "model = DCLSTM()\n",
        "model.compile(loss='sparse_categorical_crossentropy',optimizer='adam',metrics=['sparse_categorical_accuracy'])\n",
        "history = model.fit(train_inputs, training_labels_final, epochs=num_epochs, validation_data=(test_inputs, testing_labels_final))"
      ],
      "execution_count": null,
      "outputs": [
        {
          "output_type": "stream",
          "text": [
            "Epoch 1/100\n",
            "563/563 [==============================] - 26s 39ms/step - loss: 2.2806 - sparse_categorical_accuracy: 0.4339 - val_loss: 0.7748 - val_sparse_categorical_accuracy: 0.7678\n",
            "Epoch 2/100\n",
            "563/563 [==============================] - 21s 37ms/step - loss: 0.7404 - sparse_categorical_accuracy: 0.7833 - val_loss: 0.4794 - val_sparse_categorical_accuracy: 0.8542\n",
            "Epoch 3/100\n",
            "563/563 [==============================] - 21s 37ms/step - loss: 0.4843 - sparse_categorical_accuracy: 0.8567 - val_loss: 0.3838 - val_sparse_categorical_accuracy: 0.8878\n",
            "Epoch 4/100\n",
            "563/563 [==============================] - 21s 37ms/step - loss: 0.3510 - sparse_categorical_accuracy: 0.8918 - val_loss: 0.3419 - val_sparse_categorical_accuracy: 0.9004\n",
            "Epoch 5/100\n",
            "563/563 [==============================] - 21s 37ms/step - loss: 0.2741 - sparse_categorical_accuracy: 0.9153 - val_loss: 0.3249 - val_sparse_categorical_accuracy: 0.9038\n",
            "Epoch 6/100\n",
            "563/563 [==============================] - 21s 37ms/step - loss: 0.2281 - sparse_categorical_accuracy: 0.9317 - val_loss: 0.2974 - val_sparse_categorical_accuracy: 0.9224\n",
            "Epoch 7/100\n",
            "563/563 [==============================] - 21s 37ms/step - loss: 0.1813 - sparse_categorical_accuracy: 0.9437 - val_loss: 0.2701 - val_sparse_categorical_accuracy: 0.9287\n",
            "Epoch 8/100\n",
            "563/563 [==============================] - 21s 37ms/step - loss: 0.1551 - sparse_categorical_accuracy: 0.9521 - val_loss: 0.2895 - val_sparse_categorical_accuracy: 0.9264\n",
            "Epoch 9/100\n",
            "563/563 [==============================] - 21s 37ms/step - loss: 0.1291 - sparse_categorical_accuracy: 0.9605 - val_loss: 0.2636 - val_sparse_categorical_accuracy: 0.9307\n",
            "Epoch 10/100\n",
            "563/563 [==============================] - 21s 37ms/step - loss: 0.1231 - sparse_categorical_accuracy: 0.9623 - val_loss: 0.2768 - val_sparse_categorical_accuracy: 0.9287\n",
            "Epoch 11/100\n",
            "563/563 [==============================] - 21s 37ms/step - loss: 0.1003 - sparse_categorical_accuracy: 0.9694 - val_loss: 0.2579 - val_sparse_categorical_accuracy: 0.9351\n",
            "Epoch 12/100\n",
            "563/563 [==============================] - 21s 37ms/step - loss: 0.0891 - sparse_categorical_accuracy: 0.9723 - val_loss: 0.2424 - val_sparse_categorical_accuracy: 0.9440\n",
            "Epoch 13/100\n",
            "563/563 [==============================] - 21s 37ms/step - loss: 0.0876 - sparse_categorical_accuracy: 0.9727 - val_loss: 0.2749 - val_sparse_categorical_accuracy: 0.9356\n",
            "Epoch 14/100\n",
            "563/563 [==============================] - 21s 37ms/step - loss: 0.0860 - sparse_categorical_accuracy: 0.9734 - val_loss: 0.2769 - val_sparse_categorical_accuracy: 0.9356\n",
            "Epoch 15/100\n",
            "563/563 [==============================] - 21s 37ms/step - loss: 0.0729 - sparse_categorical_accuracy: 0.9773 - val_loss: 0.3057 - val_sparse_categorical_accuracy: 0.9316\n",
            "Epoch 16/100\n",
            "563/563 [==============================] - 21s 37ms/step - loss: 0.0658 - sparse_categorical_accuracy: 0.9796 - val_loss: 0.2946 - val_sparse_categorical_accuracy: 0.9391\n",
            "Epoch 17/100\n",
            "563/563 [==============================] - 21s 37ms/step - loss: 0.0688 - sparse_categorical_accuracy: 0.9783 - val_loss: 0.3074 - val_sparse_categorical_accuracy: 0.9393\n",
            "Epoch 18/100\n",
            "563/563 [==============================] - 21s 37ms/step - loss: 0.0576 - sparse_categorical_accuracy: 0.9835 - val_loss: 0.2826 - val_sparse_categorical_accuracy: 0.9431\n",
            "Epoch 19/100\n",
            "563/563 [==============================] - 21s 37ms/step - loss: 0.0581 - sparse_categorical_accuracy: 0.9829 - val_loss: 0.3144 - val_sparse_categorical_accuracy: 0.9373\n",
            "Epoch 20/100\n",
            "563/563 [==============================] - 21s 37ms/step - loss: 0.0534 - sparse_categorical_accuracy: 0.9837 - val_loss: 0.2984 - val_sparse_categorical_accuracy: 0.9458\n",
            "Epoch 21/100\n",
            "563/563 [==============================] - 21s 37ms/step - loss: 0.0536 - sparse_categorical_accuracy: 0.9836 - val_loss: 0.2859 - val_sparse_categorical_accuracy: 0.9462\n",
            "Epoch 22/100\n",
            "563/563 [==============================] - 21s 37ms/step - loss: 0.0510 - sparse_categorical_accuracy: 0.9842 - val_loss: 0.3213 - val_sparse_categorical_accuracy: 0.9400\n",
            "Epoch 23/100\n",
            "563/563 [==============================] - 21s 37ms/step - loss: 0.0484 - sparse_categorical_accuracy: 0.9859 - val_loss: 0.2892 - val_sparse_categorical_accuracy: 0.9476\n",
            "Epoch 24/100\n",
            "563/563 [==============================] - 21s 37ms/step - loss: 0.0410 - sparse_categorical_accuracy: 0.9873 - val_loss: 0.3315 - val_sparse_categorical_accuracy: 0.9376\n",
            "Epoch 25/100\n",
            "563/563 [==============================] - 21s 37ms/step - loss: 0.0457 - sparse_categorical_accuracy: 0.9863 - val_loss: 0.2996 - val_sparse_categorical_accuracy: 0.9409\n",
            "Epoch 26/100\n",
            "563/563 [==============================] - 21s 37ms/step - loss: 0.0390 - sparse_categorical_accuracy: 0.9879 - val_loss: 0.3258 - val_sparse_categorical_accuracy: 0.9418\n",
            "Epoch 27/100\n",
            "563/563 [==============================] - 21s 37ms/step - loss: 0.0323 - sparse_categorical_accuracy: 0.9907 - val_loss: 0.3497 - val_sparse_categorical_accuracy: 0.9407\n",
            "Epoch 28/100\n",
            "563/563 [==============================] - 21s 37ms/step - loss: 0.0322 - sparse_categorical_accuracy: 0.9903 - val_loss: 0.3707 - val_sparse_categorical_accuracy: 0.9393\n",
            "Epoch 29/100\n",
            "563/563 [==============================] - 21s 37ms/step - loss: 0.0385 - sparse_categorical_accuracy: 0.9886 - val_loss: 0.3683 - val_sparse_categorical_accuracy: 0.9418\n",
            "Epoch 30/100\n",
            "563/563 [==============================] - 21s 37ms/step - loss: 0.0459 - sparse_categorical_accuracy: 0.9868 - val_loss: 0.3453 - val_sparse_categorical_accuracy: 0.9413\n",
            "Epoch 31/100\n",
            "563/563 [==============================] - 21s 37ms/step - loss: 0.0410 - sparse_categorical_accuracy: 0.9880 - val_loss: 0.3391 - val_sparse_categorical_accuracy: 0.9447\n",
            "Epoch 32/100\n",
            "563/563 [==============================] - 21s 37ms/step - loss: 0.0330 - sparse_categorical_accuracy: 0.9900 - val_loss: 0.3367 - val_sparse_categorical_accuracy: 0.9471\n",
            "Epoch 33/100\n",
            "563/563 [==============================] - 21s 37ms/step - loss: 0.0273 - sparse_categorical_accuracy: 0.9912 - val_loss: 0.3646 - val_sparse_categorical_accuracy: 0.9482\n",
            "Epoch 34/100\n",
            "563/563 [==============================] - 21s 37ms/step - loss: 0.0375 - sparse_categorical_accuracy: 0.9893 - val_loss: 0.3271 - val_sparse_categorical_accuracy: 0.9511\n",
            "Epoch 35/100\n",
            "563/563 [==============================] - 21s 37ms/step - loss: 0.0331 - sparse_categorical_accuracy: 0.9894 - val_loss: 0.3647 - val_sparse_categorical_accuracy: 0.9473\n",
            "Epoch 36/100\n",
            "563/563 [==============================] - 21s 37ms/step - loss: 0.0286 - sparse_categorical_accuracy: 0.9912 - val_loss: 0.3943 - val_sparse_categorical_accuracy: 0.9429\n",
            "Epoch 37/100\n",
            "563/563 [==============================] - 21s 37ms/step - loss: 0.0350 - sparse_categorical_accuracy: 0.9901 - val_loss: 0.3767 - val_sparse_categorical_accuracy: 0.9433\n",
            "Epoch 38/100\n",
            "563/563 [==============================] - 21s 37ms/step - loss: 0.0233 - sparse_categorical_accuracy: 0.9924 - val_loss: 0.3454 - val_sparse_categorical_accuracy: 0.9460\n",
            "Epoch 39/100\n",
            "563/563 [==============================] - 21s 37ms/step - loss: 0.0249 - sparse_categorical_accuracy: 0.9927 - val_loss: 0.3541 - val_sparse_categorical_accuracy: 0.9456\n",
            "Epoch 40/100\n",
            "563/563 [==============================] - 21s 37ms/step - loss: 0.0271 - sparse_categorical_accuracy: 0.9919 - val_loss: 0.3758 - val_sparse_categorical_accuracy: 0.9458\n",
            "Epoch 41/100\n",
            "563/563 [==============================] - 21s 37ms/step - loss: 0.0351 - sparse_categorical_accuracy: 0.9905 - val_loss: 0.3772 - val_sparse_categorical_accuracy: 0.9442\n",
            "Epoch 42/100\n",
            "563/563 [==============================] - 21s 37ms/step - loss: 0.0285 - sparse_categorical_accuracy: 0.9917 - val_loss: 0.3639 - val_sparse_categorical_accuracy: 0.9471\n",
            "Epoch 43/100\n",
            "563/563 [==============================] - 21s 37ms/step - loss: 0.0281 - sparse_categorical_accuracy: 0.9922 - val_loss: 0.3534 - val_sparse_categorical_accuracy: 0.9469\n",
            "Epoch 44/100\n",
            "563/563 [==============================] - 21s 37ms/step - loss: 0.0225 - sparse_categorical_accuracy: 0.9931 - val_loss: 0.4020 - val_sparse_categorical_accuracy: 0.9451\n",
            "Epoch 45/100\n",
            "563/563 [==============================] - 21s 37ms/step - loss: 0.0272 - sparse_categorical_accuracy: 0.9924 - val_loss: 0.3851 - val_sparse_categorical_accuracy: 0.9484\n",
            "Epoch 46/100\n",
            "563/563 [==============================] - 21s 37ms/step - loss: 0.0269 - sparse_categorical_accuracy: 0.9924 - val_loss: 0.3689 - val_sparse_categorical_accuracy: 0.9507\n",
            "Epoch 47/100\n",
            "563/563 [==============================] - 21s 37ms/step - loss: 0.0189 - sparse_categorical_accuracy: 0.9942 - val_loss: 0.3916 - val_sparse_categorical_accuracy: 0.9502\n",
            "Epoch 48/100\n",
            "563/563 [==============================] - 21s 37ms/step - loss: 0.1735 - sparse_categorical_accuracy: 0.9673 - val_loss: 0.3749 - val_sparse_categorical_accuracy: 0.9409\n",
            "Epoch 49/100\n",
            "563/563 [==============================] - 21s 37ms/step - loss: 0.0263 - sparse_categorical_accuracy: 0.9914 - val_loss: 0.3762 - val_sparse_categorical_accuracy: 0.9473\n",
            "Epoch 50/100\n",
            "563/563 [==============================] - 21s 37ms/step - loss: 0.0172 - sparse_categorical_accuracy: 0.9949 - val_loss: 0.3754 - val_sparse_categorical_accuracy: 0.9478\n",
            "Epoch 51/100\n",
            "563/563 [==============================] - 21s 37ms/step - loss: 0.0149 - sparse_categorical_accuracy: 0.9948 - val_loss: 0.4120 - val_sparse_categorical_accuracy: 0.9471\n",
            "Epoch 52/100\n",
            "563/563 [==============================] - 21s 37ms/step - loss: 0.0196 - sparse_categorical_accuracy: 0.9942 - val_loss: 0.3885 - val_sparse_categorical_accuracy: 0.9484\n",
            "Epoch 53/100\n",
            "563/563 [==============================] - 21s 37ms/step - loss: 0.0260 - sparse_categorical_accuracy: 0.9931 - val_loss: 0.3735 - val_sparse_categorical_accuracy: 0.9498\n",
            "Epoch 54/100\n",
            "563/563 [==============================] - 21s 37ms/step - loss: 0.0200 - sparse_categorical_accuracy: 0.9929 - val_loss: 0.3864 - val_sparse_categorical_accuracy: 0.9520\n",
            "Epoch 55/100\n",
            "563/563 [==============================] - 21s 37ms/step - loss: 0.0340 - sparse_categorical_accuracy: 0.9910 - val_loss: 0.4059 - val_sparse_categorical_accuracy: 0.9447\n",
            "Epoch 56/100\n",
            "563/563 [==============================] - 21s 37ms/step - loss: 0.0268 - sparse_categorical_accuracy: 0.9924 - val_loss: 0.3858 - val_sparse_categorical_accuracy: 0.9456\n",
            "Epoch 57/100\n",
            "563/563 [==============================] - 21s 37ms/step - loss: 0.0217 - sparse_categorical_accuracy: 0.9933 - val_loss: 0.4366 - val_sparse_categorical_accuracy: 0.9469\n",
            "Epoch 58/100\n",
            "563/563 [==============================] - 21s 37ms/step - loss: 0.0170 - sparse_categorical_accuracy: 0.9946 - val_loss: 0.4112 - val_sparse_categorical_accuracy: 0.9500\n",
            "Epoch 59/100\n",
            "563/563 [==============================] - 21s 37ms/step - loss: 0.0257 - sparse_categorical_accuracy: 0.9934 - val_loss: 0.4192 - val_sparse_categorical_accuracy: 0.9489\n",
            "Epoch 60/100\n",
            "563/563 [==============================] - 21s 37ms/step - loss: 0.0233 - sparse_categorical_accuracy: 0.9936 - val_loss: 0.3919 - val_sparse_categorical_accuracy: 0.9496\n",
            "Epoch 61/100\n",
            "563/563 [==============================] - 21s 37ms/step - loss: 0.0211 - sparse_categorical_accuracy: 0.9930 - val_loss: 0.3886 - val_sparse_categorical_accuracy: 0.9491\n",
            "Epoch 62/100\n",
            "563/563 [==============================] - 21s 37ms/step - loss: 0.0195 - sparse_categorical_accuracy: 0.9945 - val_loss: 0.4203 - val_sparse_categorical_accuracy: 0.9458\n",
            "Epoch 63/100\n",
            "563/563 [==============================] - 21s 37ms/step - loss: 0.0235 - sparse_categorical_accuracy: 0.9936 - val_loss: 0.4187 - val_sparse_categorical_accuracy: 0.9460\n",
            "Epoch 64/100\n",
            "563/563 [==============================] - 21s 37ms/step - loss: 0.0228 - sparse_categorical_accuracy: 0.9939 - val_loss: 0.4462 - val_sparse_categorical_accuracy: 0.9469\n",
            "Epoch 65/100\n",
            "563/563 [==============================] - 21s 37ms/step - loss: 0.0227 - sparse_categorical_accuracy: 0.9938 - val_loss: 0.4208 - val_sparse_categorical_accuracy: 0.9473\n",
            "Epoch 66/100\n",
            "563/563 [==============================] - 21s 37ms/step - loss: 0.0223 - sparse_categorical_accuracy: 0.9933 - val_loss: 0.4126 - val_sparse_categorical_accuracy: 0.9482\n",
            "Epoch 67/100\n",
            "563/563 [==============================] - 21s 37ms/step - loss: 0.0233 - sparse_categorical_accuracy: 0.9941 - val_loss: 0.4140 - val_sparse_categorical_accuracy: 0.9524\n",
            "Epoch 68/100\n",
            "563/563 [==============================] - 21s 37ms/step - loss: 0.0200 - sparse_categorical_accuracy: 0.9946 - val_loss: 0.4431 - val_sparse_categorical_accuracy: 0.9473\n",
            "Epoch 69/100\n",
            "563/563 [==============================] - 21s 37ms/step - loss: 0.0215 - sparse_categorical_accuracy: 0.9933 - val_loss: 0.4417 - val_sparse_categorical_accuracy: 0.9469\n",
            "Epoch 70/100\n",
            "563/563 [==============================] - 22s 39ms/step - loss: 0.0227 - sparse_categorical_accuracy: 0.9935 - val_loss: 0.4451 - val_sparse_categorical_accuracy: 0.9484\n",
            "Epoch 71/100\n",
            "563/563 [==============================] - 21s 37ms/step - loss: 0.0250 - sparse_categorical_accuracy: 0.9926 - val_loss: 0.4748 - val_sparse_categorical_accuracy: 0.9422\n",
            "Epoch 72/100\n",
            "563/563 [==============================] - 21s 37ms/step - loss: 0.0264 - sparse_categorical_accuracy: 0.9925 - val_loss: 0.4742 - val_sparse_categorical_accuracy: 0.9451\n",
            "Epoch 73/100\n",
            "563/563 [==============================] - 21s 37ms/step - loss: 0.0196 - sparse_categorical_accuracy: 0.9944 - val_loss: 0.4326 - val_sparse_categorical_accuracy: 0.9511\n",
            "Epoch 74/100\n",
            "563/563 [==============================] - 21s 37ms/step - loss: 0.0226 - sparse_categorical_accuracy: 0.9934 - val_loss: 0.4577 - val_sparse_categorical_accuracy: 0.9491\n",
            "Epoch 75/100\n",
            "563/563 [==============================] - 21s 37ms/step - loss: 0.0240 - sparse_categorical_accuracy: 0.9932 - val_loss: 0.4435 - val_sparse_categorical_accuracy: 0.9453\n",
            "Epoch 76/100\n",
            "563/563 [==============================] - 21s 37ms/step - loss: 0.0182 - sparse_categorical_accuracy: 0.9947 - val_loss: 0.4774 - val_sparse_categorical_accuracy: 0.9449\n",
            "Epoch 77/100\n",
            "563/563 [==============================] - 21s 37ms/step - loss: 0.0239 - sparse_categorical_accuracy: 0.9937 - val_loss: 0.4479 - val_sparse_categorical_accuracy: 0.9482\n",
            "Epoch 78/100\n",
            "563/563 [==============================] - 21s 37ms/step - loss: 0.0211 - sparse_categorical_accuracy: 0.9943 - val_loss: 0.4566 - val_sparse_categorical_accuracy: 0.9516\n",
            "Epoch 79/100\n",
            "563/563 [==============================] - 21s 37ms/step - loss: 0.0236 - sparse_categorical_accuracy: 0.9927 - val_loss: 0.4635 - val_sparse_categorical_accuracy: 0.9480\n",
            "Epoch 80/100\n",
            "563/563 [==============================] - 21s 37ms/step - loss: 0.0205 - sparse_categorical_accuracy: 0.9942 - val_loss: 0.4951 - val_sparse_categorical_accuracy: 0.9489\n",
            "Epoch 81/100\n",
            "563/563 [==============================] - 21s 37ms/step - loss: 0.0200 - sparse_categorical_accuracy: 0.9942 - val_loss: 0.4324 - val_sparse_categorical_accuracy: 0.9533\n",
            "Epoch 82/100\n",
            "563/563 [==============================] - 21s 37ms/step - loss: 0.0191 - sparse_categorical_accuracy: 0.9944 - val_loss: 0.4777 - val_sparse_categorical_accuracy: 0.9489\n",
            "Epoch 83/100\n",
            "563/563 [==============================] - 21s 37ms/step - loss: 0.0222 - sparse_categorical_accuracy: 0.9939 - val_loss: 0.4813 - val_sparse_categorical_accuracy: 0.9500\n",
            "Epoch 84/100\n",
            "563/563 [==============================] - 21s 37ms/step - loss: 0.0203 - sparse_categorical_accuracy: 0.9943 - val_loss: 0.5038 - val_sparse_categorical_accuracy: 0.9482\n",
            "Epoch 85/100\n",
            "563/563 [==============================] - 21s 37ms/step - loss: 0.0214 - sparse_categorical_accuracy: 0.9932 - val_loss: 0.4818 - val_sparse_categorical_accuracy: 0.9478\n",
            "Epoch 86/100\n",
            "563/563 [==============================] - 21s 37ms/step - loss: 0.0220 - sparse_categorical_accuracy: 0.9939 - val_loss: 0.4726 - val_sparse_categorical_accuracy: 0.9529\n",
            "Epoch 87/100\n",
            "563/563 [==============================] - 21s 37ms/step - loss: 0.0170 - sparse_categorical_accuracy: 0.9948 - val_loss: 0.5146 - val_sparse_categorical_accuracy: 0.9493\n",
            "Epoch 88/100\n",
            "563/563 [==============================] - 21s 37ms/step - loss: 0.0202 - sparse_categorical_accuracy: 0.9947 - val_loss: 0.4828 - val_sparse_categorical_accuracy: 0.9504\n",
            "Epoch 89/100\n",
            "563/563 [==============================] - 21s 37ms/step - loss: 0.0212 - sparse_categorical_accuracy: 0.9941 - val_loss: 0.4819 - val_sparse_categorical_accuracy: 0.9509\n",
            "Epoch 90/100\n",
            "563/563 [==============================] - 21s 37ms/step - loss: 0.0256 - sparse_categorical_accuracy: 0.9938 - val_loss: 0.4655 - val_sparse_categorical_accuracy: 0.9498\n",
            "Epoch 91/100\n",
            "563/563 [==============================] - 21s 37ms/step - loss: 0.0259 - sparse_categorical_accuracy: 0.9931 - val_loss: 0.5050 - val_sparse_categorical_accuracy: 0.9504\n",
            "Epoch 92/100\n",
            "563/563 [==============================] - 21s 37ms/step - loss: 0.0139 - sparse_categorical_accuracy: 0.9961 - val_loss: 0.5033 - val_sparse_categorical_accuracy: 0.9507\n",
            "Epoch 93/100\n",
            "563/563 [==============================] - 21s 37ms/step - loss: 0.0245 - sparse_categorical_accuracy: 0.9939 - val_loss: 0.4773 - val_sparse_categorical_accuracy: 0.9482\n",
            "Epoch 94/100\n",
            "563/563 [==============================] - 21s 37ms/step - loss: 0.0195 - sparse_categorical_accuracy: 0.9948 - val_loss: 0.4583 - val_sparse_categorical_accuracy: 0.9469\n",
            "Epoch 95/100\n",
            "563/563 [==============================] - 21s 37ms/step - loss: 0.0146 - sparse_categorical_accuracy: 0.9956 - val_loss: 0.5046 - val_sparse_categorical_accuracy: 0.9493\n",
            "Epoch 96/100\n",
            "563/563 [==============================] - 21s 37ms/step - loss: 0.0206 - sparse_categorical_accuracy: 0.9951 - val_loss: 0.4921 - val_sparse_categorical_accuracy: 0.9518\n",
            "Epoch 97/100\n",
            "563/563 [==============================] - 21s 37ms/step - loss: 0.0182 - sparse_categorical_accuracy: 0.9948 - val_loss: 0.4897 - val_sparse_categorical_accuracy: 0.9498\n",
            "Epoch 98/100\n",
            "563/563 [==============================] - 21s 37ms/step - loss: 0.0211 - sparse_categorical_accuracy: 0.9941 - val_loss: 0.4966 - val_sparse_categorical_accuracy: 0.9500\n",
            "Epoch 99/100\n",
            "563/563 [==============================] - 21s 37ms/step - loss: 0.0223 - sparse_categorical_accuracy: 0.9946 - val_loss: 0.5087 - val_sparse_categorical_accuracy: 0.9500\n",
            "Epoch 100/100\n",
            "563/563 [==============================] - 21s 37ms/step - loss: 0.0222 - sparse_categorical_accuracy: 0.9945 - val_loss: 0.4993 - val_sparse_categorical_accuracy: 0.9509\n"
          ],
          "name": "stdout"
        }
      ]
    },
    {
      "cell_type": "code",
      "metadata": {
        "id": "yizDQtmA9paH",
        "colab": {
          "base_uri": "https://localhost:8080/",
          "height": 541
        },
        "outputId": "91978f8b-1b5d-48fe-b6c7-b6703fb9f012"
      },
      "source": [
        "plot_graphs(history, \"sparse_categorical_accuracy\")\n",
        "plot_graphs(history, \"loss\")"
      ],
      "execution_count": null,
      "outputs": [
        {
          "output_type": "display_data",
          "data": {
            "image/png": "[encoded data removed]",
            "text/plain": [
              "<Figure size 432x288 with 1 Axes>"
            ]
          },
          "metadata": {
            "tags": [],
            "needs_background": "light"
          }
        },
        {
          "output_type": "display_data",
          "data": {
            "image/png": "[encoded data removed]",
            "text/plain": [
              "<Figure size 432x288 with 1 Axes>"
            ]
          },
          "metadata": {
            "tags": [],
            "needs_background": "light"
          }
        }
      ]
    }
  ]
}