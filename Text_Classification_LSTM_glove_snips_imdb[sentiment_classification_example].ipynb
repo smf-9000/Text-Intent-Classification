{
  "nbformat": 4,
  "nbformat_minor": 0,
  "metadata": {
    "accelerator": "GPU",
    "colab": {
      "name": "Text-Classification-LSTM-glove-snips-imdb[sentiment-classification-example].ipynb",
      "provenance": [],
      "collapsed_sections": [
        "HjiKcczZDrmJ"
      ],
      "include_colab_link": true
    },
    "kernelspec": {
      "display_name": "Python 3",
      "name": "python3"
    }
  },
  "cells": [
    {
      "cell_type": "markdown",
      "metadata": {
        "id": "view-in-github",
        "colab_type": "text"
      },
      "source": [
        "<a href=\"https://colab.research.google.com/github/smf-9000/Text-Intent-Classification/blob/main/Text_Classification_LSTM_glove_snips_imdb%5Bsentiment_classification_example%5D.ipynb\" target=\"_parent\"><img src=\"https://colab.research.google.com/assets/colab-badge.svg\" alt=\"Open In Colab\"/></a>"
      ]
    },
    {
      "cell_type": "markdown",
      "metadata": {
        "id": "a9QRrEK6DwNm"
      },
      "source": [
        "## IMDb dataset"
      ]
    },
    {
      "cell_type": "code",
      "metadata": {
        "colab": {
          "base_uri": "https://localhost:8080/"
        },
        "id": "9CKr21exDryK",
        "outputId": "7db80978-79c8-4ed6-8f91-ede5df844a27"
      },
      "source": [
        "!wget http://ai.stanford.edu/~amaas/data/sentiment/aclImdb_v1.tar.gz\n",
        "!tar -xf aclImdb_v1.tar.gz"
      ],
      "execution_count": 1,
      "outputs": [
        {
          "output_type": "stream",
          "text": [
            "--2021-07-11 14:46:53--  http://ai.stanford.edu/~amaas/data/sentiment/aclImdb_v1.tar.gz\n",
            "Resolving ai.stanford.edu (ai.stanford.edu)... 171.64.68.10\n",
            "Connecting to ai.stanford.edu (ai.stanford.edu)|171.64.68.10|:80... connected.\n",
            "HTTP request sent, awaiting response... 200 OK\n",
            "Length: 84125825 (80M) [application/x-gzip]\n",
            "Saving to: ‘aclImdb_v1.tar.gz’\n",
            "\n",
            "aclImdb_v1.tar.gz   100%[===================>]  80.23M  27.5MB/s    in 2.9s    \n",
            "\n",
            "2021-07-11 14:46:56 (27.5 MB/s) - ‘aclImdb_v1.tar.gz’ saved [84125825/84125825]\n",
            "\n"
          ],
          "name": "stdout"
        }
      ]
    },
    {
      "cell_type": "code",
      "metadata": {
        "id": "dFJCwZYNEJlM"
      },
      "source": [
        "from pathlib import Path\n",
        "import pandas as pd\n",
        "\n",
        "vocab_size = 10000\n",
        "max_length = 500\n",
        "no_of_classes = 2\n",
        "\n",
        "sentences = []\n",
        "labels = []\n",
        "\n",
        "def read_imdb_split(split_dir):\n",
        "    split_dir = Path(split_dir)\n",
        "    texts = []\n",
        "    labels = []\n",
        "    for label_dir in [\"pos\", \"neg\"]:\n",
        "        for text_file in (split_dir/label_dir).iterdir():\n",
        "            texts.append(text_file.read_text())\n",
        "            labels.append(0 if label_dir is \"neg\" else 1)\n",
        "\n",
        "    return texts, labels\n",
        "\n",
        "train_texts, train_labels = read_imdb_split('aclImdb/train')\n",
        "test_texts, test_labels = read_imdb_split('aclImdb/test')\n",
        "\n",
        "sentences = train_texts + test_texts\n",
        "labels = train_labels + test_labels"
      ],
      "execution_count": 2,
      "outputs": []
    },
    {
      "cell_type": "code",
      "metadata": {
        "colab": {
          "base_uri": "https://localhost:8080/"
        },
        "id": "QnTjz5Zb1TZK",
        "outputId": "b6eef88a-e895-4dd5-e185-d70fec18c915"
      },
      "source": [
        "no_of_classes"
      ],
      "execution_count": 3,
      "outputs": [
        {
          "output_type": "execute_result",
          "data": {
            "text/plain": [
              "2"
            ]
          },
          "metadata": {
            "tags": []
          },
          "execution_count": 3
        }
      ]
    },
    {
      "cell_type": "code",
      "metadata": {
        "id": "EEHoOP5WFcI4"
      },
      "source": [
        "list(zip(sentences, labels))"
      ],
      "execution_count": null,
      "outputs": []
    },
    {
      "cell_type": "markdown",
      "metadata": {
        "id": "HjiKcczZDrmJ"
      },
      "source": [
        "## snips dataset"
      ]
    },
    {
      "cell_type": "code",
      "metadata": {
        "id": "Sw551NAEVxlx"
      },
      "source": [
        "!wget https://raw.githubusercontent.com/vgtomahawk/LR_GC_OOD/master/code/data/snips/train.csv"
      ],
      "execution_count": null,
      "outputs": []
    },
    {
      "cell_type": "code",
      "metadata": {
        "id": "dbHjfbOiV-2m"
      },
      "source": [
        "import pandas as pd\n",
        "from sklearn import preprocessing\n",
        "\n",
        "vocab_size = 10000\n",
        "max_length = 100\n",
        "\n",
        "data = pd.read_csv('/content/train.csv')\n",
        "\n",
        "le = preprocessing.LabelEncoder()\n",
        "le.fit(data.label)\n",
        "data['lbl'] = le.transform(data.label)\n",
        "no_of_classes = data['lbl'].nunique()\n",
        "# print(no_of_classes)\n",
        "data.head()"
      ],
      "execution_count": null,
      "outputs": []
    },
    {
      "cell_type": "code",
      "metadata": {
        "id": "-xGExG02xBu-"
      },
      "source": [
        "sentences = []\n",
        "labels = []\n",
        "for _, row in data.iterrows():\n",
        "  sentences.append(row['text'])\n",
        "  labels.append(row['lbl'])"
      ],
      "execution_count": null,
      "outputs": []
    },
    {
      "cell_type": "code",
      "metadata": {
        "id": "EFez1hFrdj3V"
      },
      "source": [
        "list(zip(sentences, labels))"
      ],
      "execution_count": null,
      "outputs": []
    },
    {
      "cell_type": "markdown",
      "metadata": {
        "id": "X-MSukVlC9U1"
      },
      "source": [
        "\n",
        "\n",
        "```\n",
        "# ----------------------------------------------------------------------\n",
        "```\n",
        "\n"
      ]
    },
    {
      "cell_type": "markdown",
      "metadata": {
        "id": "M5eCaeDnDhGo"
      },
      "source": [
        "## code"
      ]
    },
    {
      "cell_type": "code",
      "metadata": {
        "id": "L62G7LTwNzoD"
      },
      "source": [
        "import tensorflow as tf\n",
        "from tensorflow.keras.preprocessing.sequence import pad_sequences\n",
        "import tensorflow_datasets as tfds\n",
        "from tensorflow.keras import layers\n",
        "from tensorflow.keras.preprocessing import text, sequence"
      ],
      "execution_count": 5,
      "outputs": []
    },
    {
      "cell_type": "code",
      "metadata": {
        "id": "50-hTsogLSL-"
      },
      "source": [
        "import numpy as np\n",
        "from sklearn.model_selection import train_test_split\n",
        "\n",
        "# vocab_size = 10000\n",
        "# max_length = 100\n",
        "\n",
        "X_train, X_test, Y_train, Y_test = train_test_split(sentences, labels, test_size=0.2, random_state=42)\n",
        "\n",
        "tokenizer = text.Tokenizer(vocab_size)\n",
        "tokenizer.fit_on_texts(np.concatenate([X_train, X_test]))\n",
        "\n",
        "train_tokenized = tokenizer.texts_to_sequences(X_train) \n",
        "train_inputs = sequence.pad_sequences(train_tokenized, maxlen=max_length)\n",
        "\n",
        "test_tokenized = tokenizer.texts_to_sequences(X_test) \n",
        "test_inputs = sequence.pad_sequences(test_tokenized, maxlen=max_length)\n",
        "\n",
        "training_labels_final = np.array(Y_train)\n",
        "testing_labels_final = np.array(Y_test)"
      ],
      "execution_count": 6,
      "outputs": []
    },
    {
      "cell_type": "markdown",
      "metadata": {
        "id": "x-J4Q5BIFyBW"
      },
      "source": [
        "## Glove"
      ]
    },
    {
      "cell_type": "code",
      "metadata": {
        "colab": {
          "base_uri": "https://localhost:8080/"
        },
        "id": "2Nupla2eRwCw",
        "outputId": "0c604f1e-43bb-44be-fc72-b3d755b5a93a"
      },
      "source": [
        "!wget http://nlp.stanford.edu/data/glove.6B.zip\n",
        "!unzip glove.6B.zip"
      ],
      "execution_count": 7,
      "outputs": [
        {
          "output_type": "stream",
          "text": [
            "--2021-07-11 14:49:05--  http://nlp.stanford.edu/data/glove.6B.zip\n",
            "Resolving nlp.stanford.edu (nlp.stanford.edu)... 171.64.67.140\n",
            "Connecting to nlp.stanford.edu (nlp.stanford.edu)|171.64.67.140|:80... connected.\n",
            "HTTP request sent, awaiting response... 302 Found\n",
            "Location: https://nlp.stanford.edu/data/glove.6B.zip [following]\n",
            "--2021-07-11 14:49:05--  https://nlp.stanford.edu/data/glove.6B.zip\n",
            "Connecting to nlp.stanford.edu (nlp.stanford.edu)|171.64.67.140|:443... connected.\n",
            "HTTP request sent, awaiting response... 301 Moved Permanently\n",
            "Location: http://downloads.cs.stanford.edu/nlp/data/glove.6B.zip [following]\n",
            "--2021-07-11 14:49:06--  http://downloads.cs.stanford.edu/nlp/data/glove.6B.zip\n",
            "Resolving downloads.cs.stanford.edu (downloads.cs.stanford.edu)... 171.64.64.22\n",
            "Connecting to downloads.cs.stanford.edu (downloads.cs.stanford.edu)|171.64.64.22|:80... connected.\n",
            "HTTP request sent, awaiting response... 200 OK\n",
            "Length: 862182613 (822M) [application/zip]\n",
            "Saving to: ‘glove.6B.zip’\n",
            "\n",
            "glove.6B.zip        100%[===================>] 822.24M  5.07MB/s    in 2m 40s  \n",
            "\n",
            "2021-07-11 14:51:46 (5.13 MB/s) - ‘glove.6B.zip’ saved [862182613/862182613]\n",
            "\n",
            "Archive:  glove.6B.zip\n",
            "  inflating: glove.6B.50d.txt        \n",
            "  inflating: glove.6B.100d.txt       \n",
            "  inflating: glove.6B.200d.txt       \n",
            "  inflating: glove.6B.300d.txt       \n"
          ],
          "name": "stdout"
        }
      ]
    },
    {
      "cell_type": "code",
      "metadata": {
        "id": "cZ4tMXGmR2qq"
      },
      "source": [
        "glove_dim = 200\n",
        "glove_file = '/content/glove.6B.' + str(glove_dim) + 'd.txt'\n",
        "emb_dict = {}\n",
        "glove = open(glove_file)\n",
        "for line in glove:\n",
        "  values = line.split()\n",
        "  word = values[0]\n",
        "  vector = np.asarray(values[1:], dtype='float32')\n",
        "  emb_dict[word] = vector\n",
        "glove.close()"
      ],
      "execution_count": 8,
      "outputs": []
    },
    {
      "cell_type": "code",
      "metadata": {
        "id": "xXhavrLFR5Fu"
      },
      "source": [
        "emb_matrix = np.zeros((vocab_size, glove_dim))\n",
        "for w, i in tokenizer.word_index.items():\n",
        "  if i < vocab_size:\n",
        "    vect = emb_dict.get(w)\n",
        "    if vect is not None:\n",
        "      emb_matrix[i] = vect\n",
        "  else:\n",
        "    break"
      ],
      "execution_count": 9,
      "outputs": []
    },
    {
      "cell_type": "markdown",
      "metadata": {
        "id": "ZagSY0xHBgsk"
      },
      "source": [
        "\n",
        "\n",
        "```\n",
        "# ----------------------------------------------------------------------\n",
        "```\n",
        "\n"
      ]
    },
    {
      "cell_type": "markdown",
      "metadata": {
        "id": "Xwt-PmF3F3Sq"
      },
      "source": [
        "## code"
      ]
    },
    {
      "cell_type": "code",
      "metadata": {
        "id": "ocro_UFLHQSm"
      },
      "source": [
        "_loss=\"binary_crossentropy\"\n",
        "_optimizer=\"adam\"\n",
        "_metrics=[\"accuracy\"]\n",
        "if no_of_classes != 2:\n",
        "  _loss=\"sparse_categorical_crossentropy\"\n",
        "  _optimizer=\"adam\"\n",
        "  _metrics=[\"sparse_categorical_accuracy\"]"
      ],
      "execution_count": 10,
      "outputs": []
    },
    {
      "cell_type": "code",
      "metadata": {
        "colab": {
          "base_uri": "https://localhost:8080/"
        },
        "id": "c_nyQeI0RCCv",
        "outputId": "843c013d-323c-4f31-afb4-e6b8095e2e54"
      },
      "source": [
        "num_epochs = 10\n",
        "\n",
        "class DCLIN(tf.keras.Model):\n",
        "    \n",
        "    def __init__(self):\n",
        "        super(DCLIN, self).__init__(name='model_i')\n",
        "        \n",
        "        # self.embedding = layers.Embedding(vocab_size, embedding_dim, input_length=max_length)\n",
        "        self.embedding = layers.Embedding(\n",
        "                            vocab_size,\n",
        "                            glove_dim,\n",
        "                            embeddings_initializer=tf.keras.initializers.Constant(emb_matrix),\n",
        "                            trainable=False)\n",
        "        self.pool_1 = layers.GlobalAveragePooling1D()\n",
        "        self.dense_1 = layers.Dense(\n",
        "                            units=256,\n",
        "                            activation=\"relu\")\n",
        "        self.dense_last = layers.Dense(\n",
        "                            units=no_of_classes if no_of_classes != 2 else 1,\n",
        "                            activation=\"sigmoid\")\n",
        "        self.dropout_d = layers.Dropout(rate=0.2)\n",
        "\n",
        "    \n",
        "    def call(self, inputs, training):\n",
        "        x = self.embedding(inputs)\n",
        "        x = self.pool_1(x)\n",
        "        x = self.dense_1(x)\n",
        "        x = self.dropout_d(x)\n",
        "        output = self.dense_last(x)\n",
        "        return output\n",
        "\n",
        "model = DCLIN()\n",
        "model.compile(loss=_loss, optimizer=_optimizer, metrics=_metrics)\n",
        "history = model.fit(\n",
        "                  train_inputs,\n",
        "                  training_labels_final,\n",
        "                  epochs=num_epochs,\n",
        "                  shuffle=True,\n",
        "                  validation_data=(test_inputs, testing_labels_final))"
      ],
      "execution_count": 11,
      "outputs": [
        {
          "output_type": "stream",
          "text": [
            "Epoch 1/10\n",
            "1250/1250 [==============================] - 13s 7ms/step - loss: 0.5393 - accuracy: 0.7451 - val_loss: 0.4639 - val_accuracy: 0.7940\n",
            "Epoch 2/10\n",
            "1250/1250 [==============================] - 9s 7ms/step - loss: 0.4490 - accuracy: 0.7998 - val_loss: 0.4230 - val_accuracy: 0.8090\n",
            "Epoch 3/10\n",
            "1250/1250 [==============================] - 9s 7ms/step - loss: 0.4235 - accuracy: 0.8078 - val_loss: 0.4465 - val_accuracy: 0.7892\n",
            "Epoch 4/10\n",
            "1250/1250 [==============================] - 9s 7ms/step - loss: 0.4129 - accuracy: 0.8129 - val_loss: 0.4042 - val_accuracy: 0.8171\n",
            "Epoch 5/10\n",
            "1250/1250 [==============================] - 9s 7ms/step - loss: 0.4071 - accuracy: 0.8164 - val_loss: 0.4300 - val_accuracy: 0.8016\n",
            "Epoch 6/10\n",
            "1250/1250 [==============================] - 9s 7ms/step - loss: 0.4021 - accuracy: 0.8181 - val_loss: 0.3941 - val_accuracy: 0.8193\n",
            "Epoch 7/10\n",
            "1250/1250 [==============================] - 9s 7ms/step - loss: 0.4001 - accuracy: 0.8188 - val_loss: 0.3930 - val_accuracy: 0.8211\n",
            "Epoch 8/10\n",
            "1250/1250 [==============================] - 9s 7ms/step - loss: 0.3968 - accuracy: 0.8207 - val_loss: 0.3895 - val_accuracy: 0.8221\n",
            "Epoch 9/10\n",
            "1250/1250 [==============================] - 9s 7ms/step - loss: 0.3955 - accuracy: 0.8219 - val_loss: 0.3908 - val_accuracy: 0.8219\n",
            "Epoch 10/10\n",
            "1250/1250 [==============================] - 9s 7ms/step - loss: 0.3945 - accuracy: 0.8223 - val_loss: 0.3878 - val_accuracy: 0.8253\n"
          ],
          "name": "stdout"
        }
      ]
    },
    {
      "cell_type": "code",
      "metadata": {
        "id": "HClsbCi4_HwP"
      },
      "source": [
        "import matplotlib.pyplot as plt\n",
        "\n",
        "def plot_graphs(history, string):\n",
        "  plt.plot(history.history[string])\n",
        "  plt.plot(history.history['val_'+string])\n",
        "  plt.xlabel(\"Epochs\")\n",
        "  plt.ylabel(string)\n",
        "  plt.legend([string, 'val_'+string])\n",
        "  plt.show()"
      ],
      "execution_count": 12,
      "outputs": []
    },
    {
      "cell_type": "code",
      "metadata": {
        "colab": {
          "base_uri": "https://localhost:8080/",
          "height": 541
        },
        "id": "jzBM1PpJAYfD",
        "outputId": "81f79f25-460e-4498-8388-3a41b9599214"
      },
      "source": [
        "plot_graphs(history, _metrics[0])\n",
        "plot_graphs(history, \"loss\")"
      ],
      "execution_count": 13,
      "outputs": [
        {
          "output_type": "display_data",
          "data": {
            "image/png": "[encoded data removed]",
            "text/plain": [
              "<Figure size 432x288 with 1 Axes>"
            ]
          },
          "metadata": {
            "tags": [],
            "needs_background": "light"
          }
        },
        {
          "output_type": "display_data",
          "data": {
            "image/png": "[encoded data removed]",
            "text/plain": [
              "<Figure size 432x288 with 1 Axes>"
            ]
          },
          "metadata": {
            "tags": [],
            "needs_background": "light"
          }
        }
      ]
    },
    {
      "cell_type": "markdown",
      "metadata": {
        "id": "0eXSi5xQ_CV_"
      },
      "source": [
        "\n",
        "\n",
        "```\n",
        "# ----------------------------------------------------------------------\n",
        "```\n",
        "\n"
      ]
    },
    {
      "cell_type": "code",
      "metadata": {
        "colab": {
          "base_uri": "https://localhost:8080/"
        },
        "id": "scTUsFPAG4zP",
        "outputId": "398356cf-874a-45ef-cfda-2b3c9e0a02cf"
      },
      "source": [
        "num_epochs = 10\n",
        "\n",
        "class DCLSTM(tf.keras.Model):\n",
        "    \n",
        "    def __init__(self):\n",
        "        super(DCLSTM, self).__init__(name='model_ii')\n",
        "        \n",
        "        # self.embedding = layers.Embedding(vocab_size, embedding_dim, input_length=max_length)\n",
        "        self.embedding = layers.Embedding(\n",
        "                            vocab_size,\n",
        "                            glove_dim,\n",
        "                            embeddings_initializer=tf.keras.initializers.Constant(emb_matrix),\n",
        "                            trainable=False)\n",
        "        # self.pool_1 = layers.GlobalAveragePooling1D()\n",
        "        self.lstm_1 = layers.Bidirectional(layers.LSTM(256))\n",
        "        self.dense_1 = layers.Dense(\n",
        "                            units=256,\n",
        "                            activation=\"relu\")\n",
        "        self.dense_last = layers.Dense(\n",
        "                            units=no_of_classes if no_of_classes != 2 else 1,\n",
        "                            activation=\"sigmoid\")\n",
        "        self.dropout_e = layers.Dropout(rate=0.2)\n",
        "        self.dropout_d = layers.Dropout(rate=0.2)\n",
        "\n",
        "    \n",
        "    def call(self, inputs, training):\n",
        "        x = self.embedding(inputs)\n",
        "        x = self.dropout_e(x)\n",
        "        # x = self.pool_1(x)\n",
        "        x = self.lstm_1(x)\n",
        "        x = self.dense_1(x)\n",
        "        x = self.dropout_d(x)\n",
        "        output = self.dense_last(x)\n",
        "        return output\n",
        "\n",
        "model = DCLSTM()\n",
        "model.compile(loss=_loss, optimizer=_optimizer, metrics=_metrics)\n",
        "history = model.fit(\n",
        "                  train_inputs,\n",
        "                  training_labels_final,\n",
        "                  batch_size=256,\n",
        "                  epochs=num_epochs,\n",
        "                  shuffle=True,\n",
        "                  validation_data=(test_inputs, testing_labels_final))"
      ],
      "execution_count": 28,
      "outputs": [
        {
          "output_type": "stream",
          "text": [
            "Epoch 1/10\n",
            "157/157 [==============================] - 54s 328ms/step - loss: 0.5484 - accuracy: 0.7217 - val_loss: 0.4529 - val_accuracy: 0.8009\n",
            "Epoch 2/10\n",
            "157/157 [==============================] - 50s 321ms/step - loss: 0.4062 - accuracy: 0.8210 - val_loss: 0.3544 - val_accuracy: 0.8558\n",
            "Epoch 3/10\n",
            "157/157 [==============================] - 51s 323ms/step - loss: 0.3331 - accuracy: 0.8576 - val_loss: 0.2936 - val_accuracy: 0.8786\n",
            "Epoch 4/10\n",
            "157/157 [==============================] - 51s 323ms/step - loss: 0.2919 - accuracy: 0.8781 - val_loss: 0.3295 - val_accuracy: 0.8640\n",
            "Epoch 5/10\n",
            "157/157 [==============================] - 51s 324ms/step - loss: 0.2584 - accuracy: 0.8924 - val_loss: 0.2625 - val_accuracy: 0.8962\n",
            "Epoch 6/10\n",
            "157/157 [==============================] - 51s 325ms/step - loss: 0.2422 - accuracy: 0.8995 - val_loss: 0.2900 - val_accuracy: 0.8770\n",
            "Epoch 7/10\n",
            "157/157 [==============================] - 51s 325ms/step - loss: 0.2230 - accuracy: 0.9093 - val_loss: 0.2868 - val_accuracy: 0.8882\n",
            "Epoch 8/10\n",
            "157/157 [==============================] - 51s 324ms/step - loss: 0.2091 - accuracy: 0.9143 - val_loss: 0.2575 - val_accuracy: 0.8947\n",
            "Epoch 9/10\n",
            "157/157 [==============================] - 51s 326ms/step - loss: 0.2026 - accuracy: 0.9190 - val_loss: 0.2567 - val_accuracy: 0.9054\n",
            "Epoch 10/10\n",
            "157/157 [==============================] - 51s 325ms/step - loss: 0.1829 - accuracy: 0.9260 - val_loss: 0.2530 - val_accuracy: 0.9074\n"
          ],
          "name": "stdout"
        }
      ]
    },
    {
      "cell_type": "code",
      "metadata": {
        "colab": {
          "base_uri": "https://localhost:8080/",
          "height": 541
        },
        "id": "LkCrXwAn4HvY",
        "outputId": "8f481b62-34d5-4b9a-f0fe-a5a53a95fd76"
      },
      "source": [
        "plot_graphs(history, _metrics[0])\n",
        "plot_graphs(history, \"loss\")"
      ],
      "execution_count": 30,
      "outputs": [
        {
          "output_type": "display_data",
          "data": {
            "image/png": "[encoded data removed]",
            "text/plain": [
              "<Figure size 432x288 with 1 Axes>"
            ]
          },
          "metadata": {
            "tags": [],
            "needs_background": "light"
          }
        },
        {
          "output_type": "display_data",
          "data": {
            "image/png": "[encoded data removed]",
            "text/plain": [
              "<Figure size 432x288 with 1 Axes>"
            ]
          },
          "metadata": {
            "tags": [],
            "needs_background": "light"
          }
        }
      ]
    },
    {
      "cell_type": "markdown",
      "metadata": {
        "id": "6FHhfiWTBN3X"
      },
      "source": [
        "\n",
        "\n",
        "```\n",
        "# ----------------------------------------------------------------------\n",
        "```\n",
        "\n"
      ]
    },
    {
      "cell_type": "code",
      "metadata": {
        "colab": {
          "base_uri": "https://localhost:8080/"
        },
        "id": "fkFWc-114Txg",
        "outputId": "92e82cb2-d4e4-49a4-eeec-126606163902"
      },
      "source": [
        "num_epochs = 10\n",
        "\n",
        "class DCLSTM(tf.keras.Model):\n",
        "    \n",
        "    def __init__(self):\n",
        "        super(DCLSTM, self).__init__(name='model_iii')\n",
        "        \n",
        "        # self.embedding = layers.Embedding(vocab_size, embedding_dim, input_length=max_length)\n",
        "        self.embedding = layers.Embedding(\n",
        "                            vocab_size,\n",
        "                            glove_dim,\n",
        "                            embeddings_initializer=tf.keras.initializers.Constant(emb_matrix),\n",
        "                            trainable=False)\n",
        "        # self.pool_1 = layers.GlobalAveragePooling1D()\n",
        "        self.lstm_1 = layers.Bidirectional(layers.LSTM(256, return_sequences=True, dropout=0.2))\n",
        "        self.lstm_2 = layers.Bidirectional(layers.LSTM(256, dropout=0.2))\n",
        "        self.rv_1 = layers.RepeatVector(3)\n",
        "        self.dense_1 = layers.Dense(\n",
        "                            units=256,\n",
        "                            activation=\"relu\")\n",
        "        self.dense_last = layers.Dense(\n",
        "                            units=no_of_classes if no_of_classes != 2 else 1,\n",
        "                            activation=\"sigmoid\")\n",
        "        self.dropout_e = layers.Dropout(rate=0.2)\n",
        "        self.dropout_d = layers.Dropout(rate=0.2)\n",
        "\n",
        "    \n",
        "    def call(self, inputs, training):\n",
        "        x = self.embedding(inputs)\n",
        "        x = self.dropout_e(x)\n",
        "        # x = self.pool_1(x)\n",
        "        x = self.lstm_1(x)\n",
        "        x = self.lstm_2(x)\n",
        "        x = self.dense_1(x)\n",
        "        x = self.dropout_d(x)\n",
        "        output = self.dense_last(x)\n",
        "        return output\n",
        "\n",
        "model = DCLSTM()\n",
        "model.compile(loss=_loss, optimizer=_optimizer, metrics=_metrics)\n",
        "history = model.fit(\n",
        "                  train_inputs,\n",
        "                  training_labels_final,\n",
        "                  batch_size=256,\n",
        "                  epochs=num_epochs,\n",
        "                  shuffle=True,\n",
        "                  validation_data=(test_inputs, testing_labels_final))"
      ],
      "execution_count": 31,
      "outputs": [
        {
          "output_type": "stream",
          "text": [
            "Epoch 1/10\n",
            "157/157 [==============================] - 138s 842ms/step - loss: 0.5449 - accuracy: 0.7228 - val_loss: 0.4482 - val_accuracy: 0.8017\n",
            "Epoch 2/10\n",
            "157/157 [==============================] - 130s 828ms/step - loss: 0.4436 - accuracy: 0.7970 - val_loss: 0.3740 - val_accuracy: 0.8378\n",
            "Epoch 3/10\n",
            "157/157 [==============================] - 130s 828ms/step - loss: 0.4111 - accuracy: 0.8168 - val_loss: 0.3537 - val_accuracy: 0.8484\n",
            "Epoch 4/10\n",
            "157/157 [==============================] - 130s 830ms/step - loss: 0.3565 - accuracy: 0.8438 - val_loss: 0.3081 - val_accuracy: 0.8725\n",
            "Epoch 5/10\n",
            "157/157 [==============================] - 130s 829ms/step - loss: 0.3016 - accuracy: 0.8728 - val_loss: 0.3493 - val_accuracy: 0.8669\n",
            "Epoch 6/10\n",
            "157/157 [==============================] - 130s 828ms/step - loss: 0.2793 - accuracy: 0.8830 - val_loss: 0.2616 - val_accuracy: 0.8911\n",
            "Epoch 7/10\n",
            "157/157 [==============================] - 130s 829ms/step - loss: 0.2629 - accuracy: 0.8902 - val_loss: 0.2817 - val_accuracy: 0.8791\n",
            "Epoch 8/10\n",
            "157/157 [==============================] - 130s 830ms/step - loss: 0.2498 - accuracy: 0.8955 - val_loss: 0.2498 - val_accuracy: 0.8997\n",
            "Epoch 9/10\n",
            "157/157 [==============================] - 130s 829ms/step - loss: 0.2347 - accuracy: 0.9035 - val_loss: 0.2421 - val_accuracy: 0.9073\n",
            "Epoch 10/10\n",
            "157/157 [==============================] - 130s 831ms/step - loss: 0.2191 - accuracy: 0.9116 - val_loss: 0.2444 - val_accuracy: 0.9087\n"
          ],
          "name": "stdout"
        }
      ]
    },
    {
      "cell_type": "code",
      "metadata": {
        "colab": {
          "base_uri": "https://localhost:8080/",
          "height": 541
        },
        "id": "yizDQtmA9paH",
        "outputId": "d775b1fa-6d8b-4256-b2a7-3fe6acfb4d57"
      },
      "source": [
        "plot_graphs(history, _metrics[0])\n",
        "plot_graphs(history, \"loss\")"
      ],
      "execution_count": 32,
      "outputs": [
        {
          "output_type": "display_data",
          "data": {
            "image/png": "[encoded data removed]",
            "text/plain": [
              "<Figure size 432x288 with 1 Axes>"
            ]
          },
          "metadata": {
            "tags": [],
            "needs_background": "light"
          }
        },
        {
          "output_type": "display_data",
          "data": {
            "image/png": "[encoded data removed]",
            "text/plain": [
              "<Figure size 432x288 with 1 Axes>"
            ]
          },
          "metadata": {
            "tags": [],
            "needs_background": "light"
          }
        }
      ]
    },
    {
      "cell_type": "markdown",
      "metadata": {
        "id": "MlF6-YpdLrfi"
      },
      "source": [
        "\n",
        "\n",
        "```\n",
        "# ----------------------------------------------------------------------\n",
        "```\n",
        "\n"
      ]
    },
    {
      "cell_type": "code",
      "metadata": {
        "id": "lB1sFzQxLt44"
      },
      "source": [
        "def predict_review(model, new_sentences, maxlen=max_length):\n",
        "  new_sequences = tokenizer.texts_to_sequences(new_sentences) \n",
        "  new_sequences_padded = sequence.pad_sequences(new_sequences, maxlen=max_length)\n",
        "\n",
        "  classes = model.predict(new_sequences_padded)\n",
        "\n",
        "  C = []\n",
        "  for x in range(len(new_sentences)):\n",
        "    C.append(classes[x][0])\n",
        "  return C"
      ],
      "execution_count": 33,
      "outputs": []
    },
    {
      "cell_type": "code",
      "metadata": {
        "colab": {
          "base_uri": "https://localhost:8080/"
        },
        "id": "etJmJ_9RHToC",
        "outputId": "1731b0ce-f1dc-4339-8ad3-dfcb32a28d71"
      },
      "source": [
        "P = predict_review(model, X_test, maxlen=max_length)\n",
        "\n",
        "from sklearn.metrics import confusion_matrix, classification_report\n",
        "import matplotlib.pyplot as plt\n",
        "\n",
        "P = [1 if x > 0.5 else 0 for x in P]\n",
        "class_names = ['negative', 'positive']\n",
        "print(classification_report(testing_labels_final, P, target_names=class_names))"
      ],
      "execution_count": 34,
      "outputs": [
        {
          "output_type": "stream",
          "text": [
            "              precision    recall  f1-score   support\n",
            "\n",
            "    negative       0.90      0.92      0.91      4945\n",
            "    positive       0.92      0.90      0.91      5055\n",
            "\n",
            "    accuracy                           0.91     10000\n",
            "   macro avg       0.91      0.91      0.91     10000\n",
            "weighted avg       0.91      0.91      0.91     10000\n",
            "\n"
          ],
          "name": "stdout"
        }
      ]
    },
    {
      "cell_type": "code",
      "metadata": {
        "id": "PaKLE47HEkZo"
      },
      "source": [
        "Test_i = [\"Arrival was one of my most anticipated movies of 2016 I loved all the trailers for this film and the talent behind it made me even more excited to see the final product and I can safely say that I was blown away by the final product. This is a slow burning, thought provoking and incredibly intriguing Sci Fi masterpiece that I think in future years will become a classic. Amy Adams gives one of the greatest performances of her entire career in this film, she perfect embodies someone who is determined in her pursuit but damaged by her experiences and it's a performance that will hopefully give her an Oscar. Jeremy Renner was just perfect casting for this film he was incredibly convincing in this film and his chemistry with Adams was fantastic. Forrest Whitaker was great in this film and it was nice to see a different type of role from him. The slow pacing of this film worked perfectly it helped to build up the slow burning suspense and gave the characters more time to be developed better. The special effects in this film are also fantastic mainly because they are used sparingly as it is clear that the focus is more on the characters. Denis Villeneuve did such an amazing job directing this film he really sucked you into the situation and made it seem more life like. This film asks a lot of questions about humanity and how it interacts and these questions are incredibly intriguing and thought provoking it forces the audience to think on real life and accurate the events of this film are to real life. The whole mystery of why the aliens are here is done perfectly you're more that likely to change your mind at least once and when a mystery like that is built up for so long it's hard to make the eventual discovery satisfying but in this case it was, the eventual reveal makes you look at this film in an entirely different way, the film also doesn't feel the need to answer every question it asks leaving certain things ambiguous that allows the viewer to think on their own answers.\",\n",
        "\"This looked like an action thriller but turned up to be a crap. Aliens arrive and look like giant blobs of something but you never know because there is a convenient glass screen to blow smoke signals and make blubber whale sounds our something awful. The sounds in the theatre actually caused discomfort. Later I watched another movie with an eerie similar sound, Blade Runner, and guess what? Same sorry director and also a dud movie. Some critic described this as a cerebral experience. Nerds. It's not even close to that either. I'm mad I can't get back that time or money wasted on this trash. It's simply put about language communication and some hidden liberal agenda bs and creating world damage.\",\n",
        "\"Actually I consider myself very lucky to watch this movie....wait... AND to find the escape gate quick enough within the first 30 minutes. Phewww....!! What a load of rubbish and horseshit! I am so relieved and feel so lucky that I avoided suffering a hellish ordeal for 2 hours as others had to. Utter waste of money and time! I am so amazed Amy Adams even agreed to act here? Didn't she have anything else to do? I am even more amazed at the 'best' IMDb reviews here claiming this crap as a 'classic' masterpiece! To me it was a classic death by boredom!Avoid at any cost!! All those who voted over 1/10 must get their heads examined!\",\n",
        "\"Denis Villenueve has done it again. Arrival is nothing short of a brilliant film. The performance of Amy Adams is absolutely spectacular, as she captures the determination, smartness, uncertainty, and emotion of the character brilliantly (how did she not win, let alone get nominated for best actress-the Oscars are such a leftist propaganda show and a joke), and Jeremy Renner is terrific as always in his role, perfectly portraying the intelligence of his character while still minding the situation of those around him. Forrest Whitaker also turns in a solid supporting performance, and the direction of Villenueve is beyond incredible. A phenomenal film, and the best of 2016.\"]\n",
        "Label_i = [1,0,0,1]"
      ],
      "execution_count": 35,
      "outputs": []
    },
    {
      "cell_type": "code",
      "metadata": {
        "colab": {
          "base_uri": "https://localhost:8080/"
        },
        "id": "sOJOinv_m96D",
        "outputId": "aac7969a-533e-413f-ac76-4a47c56d635d"
      },
      "source": [
        "P = predict_review(model, Test_i, maxlen=max_length)\n",
        "print(P)\n",
        "print(Label_i)"
      ],
      "execution_count": 36,
      "outputs": [
        {
          "output_type": "stream",
          "text": [
            "[0.9803239, 0.0018621242, 0.0023195227, 0.9986047]\n",
            "[1, 0, 0, 1]\n"
          ],
          "name": "stdout"
        }
      ]
    }
  ]
}